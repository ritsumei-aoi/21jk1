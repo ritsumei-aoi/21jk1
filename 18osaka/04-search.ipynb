{
 "cells": [
  {
   "cell_type": "markdown",
   "metadata": {
    "collapsed": false
   },
   "source": [
    "# 第4章 探索アルゴリズム\n",
    "- 学生番号：\n",
    "- 氏名："
   ]
  },
  {
   "cell_type": "markdown",
   "metadata": {
    "collapsed": false
   },
   "source": [
    "## 単純照合法"
   ]
  },
  {
   "cell_type": "code",
   "execution_count": 3,
   "metadata": {
    "collapsed": false
   },
   "outputs": [
    {
     "data": {
      "text/plain": [
       "1"
      ]
     },
     "execution_count": 3,
     "metadata": {
     },
     "output_type": "execute_result"
    }
   ],
   "source": [
    "# 単純照合法(最初に見つかる場所を求める)\n",
    "def mySimpleSearch(text, pat): # text の中に pat があるかを探す\n",
    "    n,m = len(text),len(pat) # それぞれの文字列の長さ\n",
    "    for s in range(n-m+1): # text[s:s+m] と pat[0:m] が一致するかを調べる\n",
    "        i=0\n",
    "        while (i<m) and (text[s+i] == pat[i]):\n",
    "            i+=1\n",
    "        if i==m:\n",
    "            return s # 存在した時点で終了\n",
    "    return -1 # 存在しなかった場合，-1 を返す\n",
    "# 以下，動作確認\n",
    "text=\"baabaaab\"\n",
    "pat=\"aab\"\n",
    "mySimpleSearch(text,pat)"
   ]
  },
  {
   "cell_type": "code",
   "execution_count": 4,
   "metadata": {
    "collapsed": false
   },
   "outputs": [
    {
     "data": {
      "text/plain": [
       "[1, 5]"
      ]
     },
     "execution_count": 4,
     "metadata": {
     },
     "output_type": "execute_result"
    }
   ],
   "source": [
    "# 単純照合法(一致した場所をリストとして返す)\n",
    "def mySimpleSearchList(text, pat): # text の中に pat があるかを探す\n",
    "    n,m = len(text),len(pat) # それぞれの文字列の長さ\n",
    "    matchList=[] # 一致した場所の先頭のリスト\n",
    "    for s in range(n-m+1): # text[s:s+m] と pat[0:m] が一致するかを調べる\n",
    "        i=0\n",
    "        while (i<m) and (text[s+i] == pat[i]):\n",
    "            i+=1\n",
    "        if i==m:\n",
    "            matchList.append(s) # 存在した場所を登録\n",
    "    return matchList\n",
    "\n",
    "text=\"baabaaab\"\n",
    "pat=\"aab\"\n",
    "mySimpleSearchList(text,pat)"
   ]
  },
  {
   "cell_type": "markdown",
   "metadata": {
    "collapsed": false
   },
   "source": [
    "## 課題は以下に作成すること．最初の行に課題番号を書くこと． "
   ]
  },
  {
   "cell_type": "code",
   "execution_count": 0,
   "metadata": {
    "collapsed": false
   },
   "outputs": [
   ],
   "source": [
   ]
  },
  {
   "cell_type": "code",
   "execution_count": 0,
   "metadata": {
    "collapsed": false
   },
   "outputs": [
   ],
   "source": [
   ]
  }
 ],
 "metadata": {
  "kernelspec": {
   "display_name": "Python 3 (Anaconda 5)",
   "language": "python",
   "name": "anaconda5"
  },
  "language_info": {
   "codemirror_mode": {
    "name": "ipython",
    "version": 3
   },
   "file_extension": ".py",
   "mimetype": "text/x-python",
   "name": "python",
   "nbconvert_exporter": "python",
   "pygments_lexer": "ipython3",
   "version": "3.6.5"
  }
 },
 "nbformat": 4,
 "nbformat_minor": 0
}