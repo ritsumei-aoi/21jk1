{
 "cells": [
  {
   "cell_type": "markdown",
   "metadata": {
    "collapsed": false
   },
   "source": [
    "# 第2章 約数と素数\n",
    "- 学生番号：\n",
    "- 氏名："
   ]
  },
  {
   "cell_type": "markdown",
   "metadata": {
    "collapsed": false
   },
   "source": [
    "## リストについて"
   ]
  },
  {
   "cell_type": "code",
   "execution_count": 0,
   "metadata": {
    "collapsed": false,
    "scrolled": true
   },
   "outputs": [
   ],
   "source": [
    "testList=[3,1,4,1,5,9,2,6,5,3]\n",
    "print(testList) # リスト全体\n",
    "print(testList[0]) # リストの先頭\n",
    "print(testList[1]) # リストの2番目\n",
    "print(testList[1:5])  # [1] から [4] まで\n",
    "print(testList[-1]) # リストの末尾\n",
    "print(testList[-4]) # リストの後から 4 番目\n",
    "test2List=[k for k in testList if k%2==0] # 偶数のみのリスト"
   ]
  },
  {
   "cell_type": "markdown",
   "metadata": {
    "collapsed": false
   },
   "source": [
    "\n",
    "## 関数の利用"
   ]
  },
  {
   "cell_type": "code",
   "execution_count": 0,
   "metadata": {
    "collapsed": false
   },
   "outputs": [
   ],
   "source": [
    "# 関数の例 その1\n",
    "def myShowInfo(a): # 入力 a に対する情報を列挙する\n",
    "    if a%2==0:\n",
    "        print(\"{} は偶数です\".format(a))\n",
    "    digits=0 # a の桁数を求める\n",
    "    n=1 # n を 10のべき乗として比較\n",
    "    while(a>=n):\n",
    "        digits+=1\n",
    "        n*=10\n",
    "    print(\"{} は {} 桁の数です\".format(a,digits))\n",
    "    i=0\n",
    "    while( i*i< a):\n",
    "        i+=1\n",
    "    if (i*i==a):\n",
    "        print(\"???\") # 表示内容を各自考えよ\n",
    "    return 0 # 正常に終了したことを示すもの"
   ]
  },
  {
   "cell_type": "code",
   "execution_count": 0,
   "metadata": {
    "collapsed": false
   },
   "outputs": [
   ],
   "source": [
    "# 関数の例 その2\n",
    "def myPermu(n,k): # nPk を求める．\n",
    "    result=1 # 計算結果の変数\n",
    "    for i in range(n-k+1,n+1):\n",
    "        result*=i\n",
    "    return result"
   ]
  },
  {
   "cell_type": "code",
   "execution_count": 0,
   "metadata": {
    "collapsed": false
   },
   "outputs": [
   ],
   "source": [
    "#  定義した関数の動作確認\n",
    "myShowInfo(25)\n",
    "myPermu(5,2)"
   ]
  },
  {
   "cell_type": "code",
   "execution_count": 1,
   "metadata": {
    "collapsed": false
   },
   "outputs": [
   ],
   "source": [
    "# nCk を求める関数 myConbi を以下に作成せよ\n",
    "# def myConbi(...): という形になる。字下げに注意"
   ]
  },
  {
   "cell_type": "code",
   "execution_count": 0,
   "metadata": {
    "collapsed": false
   },
   "outputs": [
   ],
   "source": [
    "# 動作確認"
   ]
  },
  {
   "cell_type": "markdown",
   "metadata": {
    "collapsed": false
   },
   "source": [
    "## 単純な方法"
   ]
  },
  {
   "cell_type": "code",
   "execution_count": 0,
   "metadata": {
    "collapsed": false
   },
   "outputs": [
   ],
   "source": [
    "# 単純な方法\n",
    "a=100\n",
    "b=2\n",
    "while (b<a) and (a%b!=0):\n",
    "    b+=1\n",
    "if (b<a) or (a!=1):\n",
    "    print(\"{} is not prime\".format(a))\n",
    "else:\n",
    "    print(\"{} is prime\".format(a))"
   ]
  },
  {
   "cell_type": "code",
   "execution_count": 0,
   "metadata": {
    "collapsed": false
   },
   "outputs": [
   ],
   "source": [
    "# リストの作成\n",
    "n=100\n",
    "primeList=[]\n",
    "for a in range(2,n+1):\n",
    "    b=2\n",
    "    while (b<a) and (a%b!=0):\n",
    "        b+=1\n",
    "    if (b==a):\n",
    "        primeList.append(a)\n",
    "print(primeList)"
   ]
  },
  {
   "cell_type": "code",
   "execution_count": 0,
   "metadata": {
    "collapsed": false
   },
   "outputs": [
   ],
   "source": [
    "# 実習2.3 の myIsPrime0 はここに作成せよ\n",
    "# 最初は def myIsPrime0(a): などとすれば良いだろう"
   ]
  },
  {
   "cell_type": "code",
   "execution_count": 0,
   "metadata": {
    "collapsed": false
   },
   "outputs": [
   ],
   "source": [
    "# 実習2.4 の myMakePrimes0 はここに作成せよ"
   ]
  },
  {
   "cell_type": "code",
   "execution_count": 5,
   "metadata": {
    "collapsed": false
   },
   "outputs": [
   ],
   "source": [
    "# 課題7 の myMakePrimes1 はここに作成せよ．\n",
    "# %%timeit を用いて myMakePrimes0 との実行時間を比較すると良いだろう"
   ]
  },
  {
   "cell_type": "markdown",
   "metadata": {
    "collapsed": false
   },
   "source": [
    "## エラトステネスの篩"
   ]
  },
  {
   "cell_type": "code",
   "execution_count": 0,
   "metadata": {
    "collapsed": false
   },
   "outputs": [
   ],
   "source": [
    "# エラトステネスの篩\n",
    "n=100\n",
    "primeList=[]\n",
    "dataList=range(2,n+1)\n",
    "p=dataList[0]\n",
    "while p*p<=n:\n",
    "    primeList.append(p)\n",
    "    dataList=[k for k in dataList if k%p!=0]\n",
    "    p=dataList[0]\n",
    "primeList=primeList+dataList\n",
    "print(primeList[:10],\"...\",primeList[-10:]) # リストの間に文字列 ... を表示"
   ]
  },
  {
   "cell_type": "code",
   "execution_count": 4,
   "metadata": {
    "collapsed": false
   },
   "outputs": [
   ],
   "source": [
    "# 課題8の myMakePrimes2 はここに作成せよ"
   ]
  },
  {
   "cell_type": "markdown",
   "metadata": {
    "collapsed": false
   },
   "source": [
    "## フェルマーテスト"
   ]
  },
  {
   "cell_type": "code",
   "execution_count": 0,
   "metadata": {
    "collapsed": false
   },
   "outputs": [
   ],
   "source": [
    "# 累乗の余りの計算 その1\n",
    "a,b,n=2,240,119\n",
    "c=a**b%n #  ** で累乗\n",
    "print(c)"
   ]
  },
  {
   "cell_type": "code",
   "execution_count": 0,
   "metadata": {
    "collapsed": false
   },
   "outputs": [
   ],
   "source": [
    "# 累乗の余りの計算 その2\n",
    "a,b,n=2,240,119\n",
    "c=pow(a,b,n) #  関数 pow を利用\n",
    "print(c) "
   ]
  },
  {
   "cell_type": "code",
   "execution_count": 0,
   "metadata": {
    "collapsed": false
   },
   "outputs": [
   ],
   "source": [
   ]
  },
  {
   "cell_type": "code",
   "execution_count": 1,
   "metadata": {
    "collapsed": false
   },
   "outputs": [
    {
     "name": "stdout",
     "output_type": "stream",
     "text": [
      "1023 is not prime.\n"
     ]
    }
   ],
   "source": [
    "# フェルマーテスト\n",
    "n=1023\n",
    "a=2\n",
    "if pow(a,n-1,n)!=1:\n",
    "    print(\"{} is not prime.\".format(n))\n",
    "else:\n",
    "    print(\"{} may be prime.\".format(n))"
   ]
  },
  {
   "cell_type": "code",
   "execution_count": 3,
   "metadata": {
    "collapsed": false
   },
   "outputs": [
   ],
   "source": [
    "# 課題10の関数 myFermat をここに作成せよ\n",
    "# 最初は def myFermat(...): となるだろう"
   ]
  },
  {
   "cell_type": "code",
   "execution_count": 0,
   "metadata": {
    "collapsed": false
   },
   "outputs": [
   ],
   "source": [
    "# 疑似素数の判定\n",
    "# (注意) 以下を実行するには素数リスト primeList とフェルマーテストの判定関数 myFermat が必要\n",
    "n=341\n",
    "if myFermat(n,2)==1 and n not in primeList:\n",
    "    print(\"{} is a pseudo prime in the Fermat test 2\".format(n))"
   ]
  },
  {
   "cell_type": "markdown",
   "metadata": {
    "collapsed": false
   },
   "source": [
    "## 他の課題は以下に作成すること．最初の行に課題番号を書くこと． "
   ]
  },
  {
   "cell_type": "code",
   "execution_count": 0,
   "metadata": {
    "collapsed": false
   },
   "outputs": [
   ],
   "source": [
   ]
  }
 ],
 "metadata": {
  "kernelspec": {
   "display_name": "Python 3 (Anaconda 5)",
   "language": "python",
   "name": "anaconda5"
  },
  "language_info": {
   "codemirror_mode": {
    "name": "ipython",
    "version": 3
   },
   "file_extension": ".py",
   "mimetype": "text/x-python",
   "name": "python",
   "nbconvert_exporter": "python",
   "pygments_lexer": "ipython3",
   "version": "3.6.5"
  }
 },
 "nbformat": 4,
 "nbformat_minor": 0
}