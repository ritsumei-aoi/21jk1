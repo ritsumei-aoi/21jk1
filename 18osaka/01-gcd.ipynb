{
 "cells": [
  {
   "cell_type": "markdown",
   "metadata": {
    "collapsed": false
   },
   "source": [
    "# 第1章 互除法とその改良\n",
    "- 学生番号：\n",
    "- 氏名："
   ]
  },
  {
   "cell_type": "markdown",
   "metadata": {
    "collapsed": false
   },
   "source": [
    "## 2つ のアルゴリズムの評価"
   ]
  },
  {
   "cell_type": "code",
   "execution_count": 14,
   "metadata": {
    "collapsed": false,
    "scrolled": true
   },
   "outputs": [
    {
     "name": "stdout",
     "output_type": "stream",
     "text": [
      "3\n",
      "CPU times: user 10.5 s, sys: 2 µs, total: 10.5 s\n",
      "Wall time: 10.5 s\n"
     ]
    },
    {
     "name": "stdout",
     "output_type": "stream",
     "text": [
      "3\n"
     ]
    }
   ],
   "source": [
    "# gcd その1\n",
    "a,b=3231,123 # 複数の変数をまとめて代入\n",
    "for i in range(1,b+1): #これで， i=1 から b までの指定になる\n",
    "    if (a%i==0) and (b%i==0):\n",
    "        M=i # 暫定で最大の公約数である i を代入\n",
    "print(M) # for を抜けた後の最大公約数となった M を表示"
   ]
  },
  {
   "cell_type": "code",
   "execution_count": 15,
   "metadata": {
    "collapsed": false
   },
   "outputs": [
    {
     "name": "stdout",
     "output_type": "stream",
     "text": [
      "3\n",
      "CPU times: user 45 µs, sys: 0 ns, total: 45 µs\n",
      "Wall time: 47.7 µs\n"
     ]
    }
   ],
   "source": [
    "# gcd その2\n",
    "a,b=321,123\n",
    "while(b!=0):\n",
    "    a,b=b,a%b # 代入する右辺の a,b は更新前のもの\n",
    "print(a)"
   ]
  },
  {
   "cell_type": "markdown",
   "metadata": {
    "collapsed": false
   },
   "source": [
    "## 最悪時の評価"
   ]
  },
  {
   "cell_type": "code",
   "execution_count": 1,
   "metadata": {
    "collapsed": false
   },
   "outputs": [
    {
     "name": "stdout",
     "output_type": "stream",
     "text": [
      "1 2 1 1\n",
      "1 3 1 1\n",
      "2 3 2 1\n",
      "1 4 1 1\n",
      "1 4 2 2\n",
      "2 4 3 1\n",
      "1 5 1 1\n",
      "2 5 2 1\n",
      "3 5 3 1\n",
      "2 5 4 1\n",
      "1 6 1 1\n",
      "1 6 2 2\n",
      "1 6 3 3\n",
      "2 6 4 2\n",
      "2 6 5 1\n",
      "1 7 1 1\n",
      "2 7 2 1\n",
      "2 7 3 1\n",
      "3 7 4 1\n",
      "3 7 5 1\n",
      "2 7 6 1\n",
      "1 8 1 1\n",
      "1 8 2 2\n",
      "3 8 3 1\n",
      "1 8 4 4\n",
      "4 8 5 1\n",
      "2 8 6 2\n",
      "2 8 7 1\n",
      "1 9 1 1\n",
      "2 9 2 1\n",
      "1 9 3 3\n",
      "2 9 4 1\n",
      "3 9 5 1\n",
      "2 9 6 3\n",
      "3 9 7 1\n",
      "2 9 8 1\n",
      "1 10 1 1\n",
      "1 10 2 2\n",
      "2 10 3 1\n",
      "2 10 4 2\n",
      "1 10 5 5\n",
      "3 10 6 2\n",
      "3 10 7 1\n",
      "2 10 8 2\n",
      "2 10 9 1\n",
      "4\n"
     ]
    }
   ],
   "source": [
    "# 最悪時の評価\n",
    "N=10 # この数まで調べる\n",
    "M=0 # カウンタ最大値(暫定)\n",
    "for a0 in range(1,N+1):\n",
    "    for b0 in range(1,a0):\n",
    "        count=0 # カウンタの初期化\n",
    "        a,b=a0,b0 # 各値について互除法を行なう\n",
    "        while b!=0:\n",
    "            a,b=b,a%b\n",
    "            count+=1\n",
    "        if count>M: # 暫定最大値よりも大きければ更新\n",
    "            M=count\n",
    "        print(count,a0,b0,a) # 回数，a,b gcd(a,b) の順に表示\n",
    "print(M)"
   ]
  },
  {
   "cell_type": "markdown",
   "metadata": {
    "collapsed": false
   },
   "source": [
    "## 課題は以下に作成すること．最初の行に課題番号を書くこと． "
   ]
  },
  {
   "cell_type": "code",
   "execution_count": 0,
   "metadata": {
    "collapsed": false
   },
   "outputs": [
   ],
   "source": [
    "# 課題?\n"
   ]
  },
  {
   "cell_type": "code",
   "execution_count": 0,
   "metadata": {
    "collapsed": false
   },
   "outputs": [
   ],
   "source": [
    "# 課題?\n"
   ]
  }
 ],
 "metadata": {
  "kernelspec": {
   "display_name": "Python 3",
   "language": "python",
   "name": "python3",
   "resource_dir": "/usr/local/share/jupyter/kernels/python3"
  },
  "language_info": {
   "codemirror_mode": {
    "name": "ipython",
    "version": 3
   },
   "file_extension": ".py",
   "mimetype": "text/x-python",
   "name": "python",
   "nbconvert_exporter": "python",
   "pygments_lexer": "ipython3",
   "version": "3.7.10"
  }
 },
 "nbformat": 4,
 "nbformat_minor": 4
}