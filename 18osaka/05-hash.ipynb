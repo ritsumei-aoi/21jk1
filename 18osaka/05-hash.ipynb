{
 "cells": [
  {
   "cell_type": "markdown",
   "metadata": {
    "collapsed": false
   },
   "source": [
    "# 第5章 ハッシュ関数とブロックチェーン\n",
    "- 学生番号：\n",
    "- 氏名："
   ]
  },
  {
   "cell_type": "markdown",
   "metadata": {
    "collapsed": false
   },
   "source": [
    "## ハッシュ関数 SHA256 によるハッシュ値の計算"
   ]
  },
  {
   "cell_type": "markdown",
   "metadata": {
    "collapsed": false
   },
   "source": [
    "## 実習5.1\n",
    "+ 以下のコードを実行しなさい.\n",
    "+ myStr2 として，\"私の成績はAです．\" とすることでハッシュ値を計算し，比較しなさい\n",
    "    + セルまたは文字列のコピーを利用すると良いだろう"
   ]
  },
  {
   "cell_type": "code",
   "execution_count": 2,
   "metadata": {
    "collapsed": false
   },
   "outputs": [
    {
     "name": "stdout",
     "output_type": "stream",
     "text": [
      "b'\\xe7\\xa7\\x81\\xe3\\x81\\xae\\xe6\\x88\\x90\\xe7\\xb8\\xbe\\xe3\\x81\\xafF\\xe3\\x81\\xa7\\xe3\\x81\\x99.'\n",
      "e7a781e381aee68890e7b8bee381af46e381a7e381992e\n",
      "22188076321794593932430065946794283322252641200490256686\n",
      "7c136d5c3ec36338bd15588dc0a13b9ffd7055ab2ebed67dd69ec2389ef3fa9a\n",
      "56121118095832454883506314253225243795979571668490411751083301587444047280794\n"
     ]
    }
   ],
   "source": [
    "# SHA256 によるハッシュ値の計算，比較\n",
    "from hashlib import sha256 # hashを扱うライブラリhashlibを用いる\n",
    "\n",
    "myStr1 = \"私の成績はFです.\" #ハッシュ値を求める文字列\n",
    "\n",
    "\n",
    "print(myStr1.encode(\"UTF-8\")) # UTF-8 でエンコードしたものの表示 (この形を使う)\n",
    "print(myStr1.encode(\"UTF-8\").hex()) # それを16進表示したもの (参考)\n",
    "print(int(myStr1.encode(\"UTF-8\").hex(),16)) # それを10進表示したもの (参考)\n",
    "\n",
    "myHash1 = sha256(myStr1.encode(\"UTF-8\")) #sha256でハッシュを求める\n",
    "myHash1_hex=myHash1.hexdigest() # 16進表示\n",
    "myHash1_dec=int(myHash1_hex,16) # 10進の整数に変換\n",
    "\n",
    "print(myHash1_hex) # それぞれ表示\n",
    "print(myHash1_dec)"
   ]
  },
  {
   "cell_type": "markdown",
   "metadata": {
    "collapsed": false
   },
   "source": [
    "## 実習5.2\n",
    "+ 以下を実行しなさい\n",
    "+ 条件として，ハッシュ値の最初に0が4つ並ぶものを求めなさい\n",
    "    + 余裕があれば，条件を変えて，合致するものの頻度についても考えると良いだろう．"
   ]
  },
  {
   "cell_type": "code",
   "execution_count": 6,
   "metadata": {
    "collapsed": false
   },
   "outputs": [
    {
     "name": "stdout",
     "output_type": "stream",
     "text": [
      "ハッシュ値チェック\n",
      "47fcab849ae117a76cd192e6ae09c181d4e17dca578abe971d4b59fc5a30c64c\n",
      "ハッシュ値チェック4648\n",
      "00029fc741426258f4493620709b7223cf3b07f6a922b546a5f37b9a15d16d87\n"
     ]
    }
   ],
   "source": [
    "from hashlib import sha256\n",
    "\n",
    "myStr = \"ハッシュ値チェック\" # ハッシュ値を求める文字列\n",
    "print(myStr)\n",
    "myHash = sha256(myStr.encode(\"UTF-8\")) #sha256 でハッシュ値を求める\n",
    "print(myHash.hexdigest()) # 16進法表示で表示\n",
    "condStr=\"000\" # 最初がこうなるハッシュを探す\n",
    "searchLimit=10000 # 試行回数の上限\n",
    "i=0\n",
    "checkHash=sha256((myStr+str(i)).encode(\"UTF-8\")).hexdigest()\n",
    "while (checkHash[:len(condStr)]!=condStr) and (i<searchLimit):\n",
    "    i+=1\n",
    "    checkHash=sha256((myStr+str(i)).encode(\"UTF-8\")).hexdigest()\n",
    "print(myStr+str(i))\n",
    "print(sha256((myStr+str(i)).encode(\"UTF-8\")).hexdigest())"
   ]
  },
  {
   "cell_type": "code",
   "execution_count": 0,
   "metadata": {
    "collapsed": false
   },
   "outputs": [
   ],
   "source": [
   ]
  },
  {
   "cell_type": "markdown",
   "metadata": {
    "collapsed": false
   },
   "source": [
    "## (参考) nonce を用いたブロックチェーンの実装"
   ]
  },
  {
   "cell_type": "code",
   "execution_count": 7,
   "metadata": {
    "collapsed": false
   },
   "outputs": [
    {
     "name": "stdout",
     "output_type": "stream",
     "text": [
      "First Block\n",
      "Hash: a0c145ad548b14fe505452b8d288d1875c9902041f2e622e89c14634c990e3b6\n",
      "Nonce: 4534\n",
      "\n",
      "Block #1 has been added to the blockchain!\n",
      "Hash: fc027b5f3132820aefa9f0dd8e9d5a2ac49b420f257e29813194e4c55a35eb30\n",
      "Nonce: 6824\n",
      "\n",
      "Block #2 has been added to the blockchain!\n",
      "Hash: 001d072b10c1b2eb0b758c7955a05e2b641ae6d78a5fbafad87461fbd7ce4953\n",
      "Nonce: 8236\n",
      "\n",
      "Block #3 has been added to the blockchain!\n",
      "Hash: c2244f5d57b4e202540d2bb55c0f2c2c9f9c24f0f20f5c4d4d55a6522dd0172c\n",
      "Nonce: 3\n",
      "\n",
      "0-th block\n",
      "date:17:04:55\n",
      "Prev_hash:\n",
      "This_hash:a0c145ad548b14fe505452b8d288d1875c9902041f2e622e89c14634c990e3b6\n",
      "Data:Genesis Block\n",
      "Value:0\n",
      "Check:00038768b5a2f610ec7723d31ddca7ecb33d235876acb9322fdd7cfc25d790f6\n",
      "\n",
      "\n",
      "1-th block\n",
      "date:17:04:55\n",
      "Prev_hash:a0c145ad548b14fe505452b8d288d1875c9902041f2e622e89c14634c990e3b6\n",
      "This_hash:fc027b5f3132820aefa9f0dd8e9d5a2ac49b420f257e29813194e4c55a35eb30\n",
      "Data:Hey! I'm block 1\n",
      "Value:4282\n",
      "Check:00065ba94f8bca1e82c169234c755cc8556aaaae9a96c1e548d0a1f98bf30067\n",
      "\n",
      "\n",
      "2-th block\n",
      "date:17:04:55\n",
      "Prev_hash:fc027b5f3132820aefa9f0dd8e9d5a2ac49b420f257e29813194e4c55a35eb30\n",
      "This_hash:001d072b10c1b2eb0b758c7955a05e2b641ae6d78a5fbafad87461fbd7ce4953\n",
      "Data:Hey! I'm block 2\n",
      "Value:999\n",
      "Check:0007936f7a1ea61e7d345cdf84c5ffc8d30192160cd6ce2de5b66c7ad2b4bc4c\n",
      "\n",
      "\n",
      "3-th block\n",
      "date:17:04:55\n",
      "Prev_hash:001d072b10c1b2eb0b758c7955a05e2b641ae6d78a5fbafad87461fbd7ce4953\n",
      "This_hash:c2244f5d57b4e202540d2bb55c0f2c2c9f9c24f0f20f5c4d4d55a6522dd0172c\n",
      "Data:Hey! I'm block 3\n",
      "Value:5237\n",
      "Check:0006ea7fbdcafe58c5dea4348228647d9c7063df42cae1b746401aefa9b28e52\n",
      "\n",
      "\n"
     ]
    }
   ],
   "source": [
    "from hashlib import sha256\n",
    "from random import random\n",
    "\n",
    "class Block: # ブロックをクラスとして定義する\n",
    "    def __init__(self, index, timestamp, data, previous_hash,value): # 属性(Block が持つ要素)の設置\n",
    "        self.index = index\n",
    "        self.timestamp = timestamp\n",
    "        self.data = data\n",
    "        self.value= value\n",
    "        self.previous_hash = previous_hash\n",
    "        self.hash = self.hash_block()\n",
    "        self.nonce = self.proof_of_work()\n",
    "    def hash_block(self): # ハッシュ値を求めるメソッドの定義\n",
    "        sha = sha256()\n",
    "        sha.update((str(self.index) + str(self.timestamp) + \n",
    "                    str(self.data) + str(self.value)+ str(self.previous_hash)).encode('utf-8'))\n",
    "        return sha.hexdigest()\n",
    "    def proof_of_work(self):\n",
    "        \"\"\"\n",
    "        シンプルなプルーフ・オブ・ワークのアルゴリズム:\n",
    "         - hash(pp') の最初のnum個が0となるような p' を探す\n",
    "         - p は1つ前のブロックのプルーフ、 p' は新しいブロックのプルーフ\n",
    "        :param last_proof: <int>\n",
    "        :return: <int>\n",
    "        \"\"\"\n",
    "        num=3\n",
    "        proof = 0\n",
    "        while self.valid_proof(proof,num) is False:\n",
    "            proof += 1\n",
    "        return proof\n",
    "    def valid_proof(self,proof,num):\n",
    "        \"\"\"\n",
    "        プルーフが正しいかを確認する: hash(last_proof, proof)の最初のnum個が0となっているか？\n",
    "        :param last_proof: <int> 前のプルーフ\n",
    "        :param proof: <int> 現在のプルーフ\n",
    "        :return: <bool> 正しければ true 、そうでなれけば false\n",
    "        \"\"\"\n",
    "        guess = f'{self.hash}{proof}'.encode('UTF-8')\n",
    "        guess_hash = sha256(guess).hexdigest()\n",
    "        return guess_hash[:num] == \"0\"*num\n",
    "\n",
    "from datetime import datetime\n",
    "\n",
    "def create_genesis_block(): # 最初のブロックの定義\n",
    "    # Manually construct a block with\n",
    "    # index zero and arbitrary previous hash\n",
    "    return Block(0, datetime.now(), \"Genesis Block\", \"\", 0)\n",
    "\n",
    "def next_block(last_block,value): # 次のブロックを設定\n",
    "    this_index = last_block.index + 1\n",
    "    this_timestamp = datetime.now()\n",
    "    this_data = \"Hey! I'm block \" + str(this_index)\n",
    "    this_hash = last_block.hash\n",
    "    this_value = value\n",
    "    return Block(this_index, this_timestamp, this_data, this_hash, this_value)\n",
    "\n",
    "# Create the blockchain and add the genesis block\n",
    "blockchain = [create_genesis_block()]\n",
    "previous_block = blockchain[0]\n",
    "print(\"First Block\")\n",
    "print(\"Hash: {}\\nNonce: {}\\n\".format(blockchain[0].hash,blockchain[0].nonce))\n",
    "\n",
    "# How many blocks should we add to the chain\n",
    "# after the genesis block\n",
    "num_of_blocks_to_add = 3\n",
    "valueList=[int(10000*random()) for i in range(num_of_blocks_to_add)]\n",
    "\n",
    "\n",
    "\n",
    "# Add blocks to the chain\n",
    "for i in range(0, num_of_blocks_to_add):\n",
    "    block_to_add = next_block(previous_block,valueList[i])\n",
    "    blockchain.append(block_to_add)\n",
    "    previous_block = block_to_add\n",
    "\n",
    "# Tell everyone about it!\n",
    "    print(\"Block #{} has been added to the blockchain!\".format(block_to_add.index))\n",
    "    print(\"Hash: {}\\nNonce: {}\\n\".format(block_to_add.hash,block_to_add.nonce))\n",
    "\n",
    "for i in range(0, num_of_blocks_to_add+1):\n",
    "    iblock=blockchain[i]\n",
    "    itime=iblock.timestamp.strftime(\"%H:%M:%S\")\n",
    "    iprevhash=iblock.previous_hash\n",
    "    ihash=iblock.hash\n",
    "    idata=iblock.data\n",
    "    ivalue=iblock.value\n",
    "    inonce=iblock.nonce\n",
    "    icheck=sha256(f'{ihash}{inonce}'.encode('UTF-8')).hexdigest()\n",
    "    print(\"{}-th block\\ndate:{}\\nPrev_hash:{}\\nThis_hash:{}\\nData:{}\\nValue:{}\\nCheck:{}\\n\\n\".format(iblock.index,itime,iprevhash,ihash,idata,ivalue,icheck))"
   ]
  },
  {
   "cell_type": "markdown",
   "metadata": {
    "collapsed": false
   },
   "source": [
    "## 課題については以下で行うこと"
   ]
  },
  {
   "cell_type": "code",
   "execution_count": 0,
   "metadata": {
    "collapsed": false
   },
   "outputs": [
   ],
   "source": [
   ]
  },
  {
   "cell_type": "code",
   "execution_count": 0,
   "metadata": {
    "collapsed": false
   },
   "outputs": [
   ],
   "source": [
   ]
  }
 ],
 "metadata": {
  "kernelspec": {
   "display_name": "Python 3 (Ubuntu Linux)",
   "language": "python",
   "name": "python3"
  },
  "language_info": {
   "codemirror_mode": {
    "name": "ipython",
    "version": 3
   },
   "file_extension": ".py",
   "mimetype": "text/x-python",
   "name": "python",
   "nbconvert_exporter": "python",
   "pygments_lexer": "ipython3",
   "version": "3.6.8"
  }
 },
 "nbformat": 4,
 "nbformat_minor": 0
}