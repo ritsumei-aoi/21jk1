{
 "cells": [
  {
   "cell_type": "markdown",
   "metadata": {
    "collapsed": false
   },
   "source": [
    "# 第3章 支払いとお釣り\n",
    "- 学生番号：\n",
    "- 氏名："
   ]
  },
  {
   "cell_type": "markdown",
   "metadata": {
    "collapsed": false
   },
   "source": [
    "## 与えられた貨幣体系に関する最適組み合わせ\n"
   ]
  },
  {
   "cell_type": "code",
   "execution_count": 3,
   "metadata": {
    "collapsed": false
   },
   "outputs": [
   ],
   "source": [
    "# コインの最適組み合わせ\n",
    "def mySetWallet(money,coinList=[100,50,10,5,1]):\n",
    "    wallet=[] # 枚数を記録するリスト\n",
    "    for c in coinList: # 各額面に対して枚数を設定\n",
    "        wallet.append(money//c)\n",
    "        money=money%c # 余りは次に回す\n",
    "    return wallet\n",
    "def myShowWallet(wallet,coinList=[100,50,10,5,1],unit=\"円\"):\n",
    "    sum=0\n",
    "    for i in range(len(wallet)):\n",
    "        if wallet[i]>0:\n",
    "            print(\"{0:4d}{1}：{2}枚\".format(coinList[i],unit,wallet[i]))\n",
    "            sum+=coinList[i]*wallet[i]\n",
    "    return sum\n",
    "# 動作確認\n",
    "wallet=mySetWallet(122)\n",
    "myShowWallet(wallet)\n"
   ]
  },
  {
   "cell_type": "markdown",
   "metadata": {
    "collapsed": false
   },
   "source": [
    "## セルの操作について\n",
    "- 選択したセルの左側が青 or 緑になる\n",
    "    - 青の時は，そのセル自体の操作(セルのコピーなど)\n",
    "    - 緑の時は，セル内の編集\n",
    "- セルの新規作成\n",
    "    - メニューの Insert から，Inert cell above/below\n",
    "    - キーボードからは A or B\n",
    "- セルの切り取り，貼り付け\n",
    "    - メニューの Edit から，Copy cells してから Pase cells above/below\n",
    "    - キーボードからは C してから V\n",
    "- やりなおし\n",
    "    - メニューの Edit から，Undo\n",
    "    - キーボードからは Ctrl+Z\n",
    "- セルの実行は\n",
    "    - メニューの Run\n",
    "    - キーボードからは Ctrl+Enter または Shift+Enter(次のセルに移動)\n",
    "- 各種操作は H で一覧が表示される\n",
    "## 作業は以下で行うこと．課題の場合，最初の行に課題番号を書くこと．\n"
   ]
  },
  {
   "cell_type": "code",
   "execution_count": 0,
   "metadata": {
    "collapsed": false
   },
   "outputs": [
   ],
   "source": [
   ]
  }
 ],
 "metadata": {
  "kernelspec": {
   "display_name": "Python 3 (Anaconda 5)",
   "language": "python",
   "name": "anaconda5"
  },
  "language_info": {
   "codemirror_mode": {
    "name": "ipython",
    "version": 3
   },
   "file_extension": ".py",
   "mimetype": "text/x-python",
   "name": "python",
   "nbconvert_exporter": "python",
   "pygments_lexer": "ipython3",
   "version": "3.6.5"
  }
 },
 "nbformat": 4,
 "nbformat_minor": 0
}