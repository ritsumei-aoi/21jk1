{
 "cells": [
  {
   "cell_type": "code",
   "execution_count": 0,
   "metadata": {
    "collapsed": false
   },
   "outputs": [
   ],
   "source": [
    "%matplotlib inline\n",
    "from IPython.display import display,Math\n",
    "from sympy import *\n",
    "init_session()"
   ]
  },
  {
   "cell_type": "code",
   "execution_count": 0,
   "metadata": {
    "collapsed": false
   },
   "outputs": [
   ],
   "source": [
    "%%time\n",
    "# 平方根の第k位まで\n",
    "p = 2\n",
    "k = 2\n",
    "q = 0\n",
    "while ( q**2 <= p*(10**(2*k)) ):\n",
    "    q = q+1\n",
    "\n",
    "# 第k桁まで r*(10**k)\n",
    "if q**2 == p*(10**(2*k)):\n",
    "    r = q\n",
    "else:\n",
    "    r = q-1\n",
    "print(\"{0:d} の平方根の小数第{1:d}位までは {2:.{digits}f}\".format(p,k,r*(10**(-k)),digits=k))\n"
   ]
  },
  {
   "cell_type": "code",
   "execution_count": 0,
   "metadata": {
    "collapsed": false
   },
   "outputs": [
   ],
   "source": [
    "%%time\n",
    "# 平方根の第k位まで(変数追加による改良)\n",
    "p = 2\n",
    "k = 2\n",
    "q = 0\n",
    "pk = p * (10**(2*k)) # 繰り返し使うので変数として設定\n",
    "while ( q**2 <= pk ):\n",
    "    q = q+1\n",
    "\n",
    "# 第k桁まで r*(10**k)\n",
    "if q**2 == pk:\n",
    "    r = q\n",
    "else:\n",
    "    r = q-1\n",
    "print(\"{0:d} の平方根の小数第{1:d}位までは {2:.{digits}f}\".format(p,k,r*(10**(-k)),digits=k))\n"
   ]
  },
  {
   "cell_type": "code",
   "execution_count": 0,
   "metadata": {
    "collapsed": false
   },
   "outputs": [
   ],
   "source": [
    "%%time\n",
    "# 平方根の第k位まで(和の公式を利用)\n",
    "p = 2\n",
    "k = 2\n",
    "s = 0\n",
    "q = 0\n",
    "pk = p*(10**(2*k))\n",
    "while ( s <= pk ):\n",
    "    s = s+(2*q+1)\n",
    "    q = q+1\n",
    "\n",
    "# 第k桁まで r*(10**k)\n",
    "if s == p:\n",
    "    r = q\n",
    "else:\n",
    "    r = q-1\n",
    "print(\"{0:d} の平方根の小数第{1:d}位までは {2:.{digits}f}\".format(p,k,r*(10**(-k)),digits=k))\n"
   ]
  },
  {
   "cell_type": "code",
   "execution_count": 0,
   "metadata": {
    "collapsed": false
   },
   "outputs": [
   ],
   "source": [
    "%%time\n",
    "# 平方根を用いる(ニュートン法)\n",
    "p = 3\n",
    "k = 2 # 誤差の精度\n",
    "e = 10**(-k)  # 誤差\n",
    "q = p\n",
    "while ( (q**2-p)/q >= e):\n",
    "    q = (p+q**2)/(2*q)\n",
    "print(\"{0:d} の平方根の誤差{1:.{digits}f}の値は {2:.{digits}f}\".format(p,e,q,digits=k))\n"
   ]
  },
  {
   "cell_type": "code",
   "execution_count": 0,
   "metadata": {
    "collapsed": false
   },
   "outputs": [
   ],
   "source": [
    "from ipywidgets import interact\n",
    "from ipywidgets import BoundedIntText\n",
    "import time\n",
    "def mynewton(p,k,mstep=10**3):\n",
    "    e = 10**(-k)\n",
    "    q = p\n",
    "    step = 0\n",
    "    while ( (q**2-p)/q >= e) and (step < mstep):\n",
    "        q = (p+q**2)/(2*q)\n",
    "        step += 1\n",
    "    return q,step\n",
    "@interact\n",
    "def _(p=BoundedIntText(value=2,min=1,max=1000,step=1,description=\"p\"),\n",
    "      k=BoundedIntText(value=1,min=1,max=100,step=1,description=\"精度\")):\n",
    "    p,k = int(p),int(k)\n",
    "    q,step = mynewton(p,k)\n",
    "    return display(Math(\"$\\sqrt{{ {0:d} }}\\\\fallingdotseq {1:.{digits}f}\\\\\\\\ \\\n",
    "        \\\\text{{{2:d}step(s)}}\".format(p,q,step,digits=k)))"
   ]
  },
  {
   "cell_type": "code",
   "execution_count": 0,
   "metadata": {
    "collapsed": false
   },
   "outputs": [
   ],
   "source": [
   ]
  }
 ],
 "metadata": {
  "kernelspec": {
   "display_name": "Python 3",
   "language": "python",
   "name": "python3",
   "resource_dir": "/usr/local/share/jupyter/kernels/python3"
  },
  "language_info": {
   "codemirror_mode": {
    "name": "ipython",
    "version": 3
   },
   "file_extension": ".py",
   "mimetype": "text/x-python",
   "name": "python",
   "nbconvert_exporter": "python",
   "pygments_lexer": "ipython3",
   "version": "3.7.10"
  },
  "toc": {
   "base_numbering": 1,
   "nav_menu": {
   },
   "number_sections": true,
   "sideBar": true,
   "skip_h1_title": false,
   "title_cell": "Table of Contents",
   "title_sidebar": "Contents",
   "toc_cell": false,
   "toc_position": {
   },
   "toc_section_display": true,
   "toc_window_display": false
  }
 },
 "nbformat": 4,
 "nbformat_minor": 4
}