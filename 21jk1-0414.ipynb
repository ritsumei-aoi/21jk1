{
 "cells": [
  {
   "cell_type": "code",
   "execution_count": 1,
   "metadata": {
    "collapsed": false,
    "trusted": true
   },
   "outputs": [
    {
     "name": "stdout",
     "output_type": "stream",
     "text": [
      "IPython console for SymPy 1.7.1 (Python 3.7.10-64-bit) (ground types: gmpy)\n",
      "\n",
      "These commands were executed:\n",
      ">>> from __future__ import division\n",
      ">>> from sympy import *\n",
      ">>> x, y, z, t = symbols('x y z t')\n",
      ">>> k, m, n = symbols('k m n', integer=True)\n",
      ">>> f, g, h = symbols('f g h', cls=Function)\n",
      ">>> init_printing()\n",
      "\n",
      "Documentation can be found at https://docs.sympy.org/1.7.1/\n",
      "\n"
     ]
    }
   ],
   "source": [
    "%matplotlib inline\n",
    "from IPython.display import display,Math\n",
    "from sympy import *\n",
    "init_session()"
   ]
  },
  {
   "cell_type": "code",
   "execution_count": 2,
   "metadata": {
    "collapsed": false,
    "trusted": true
   },
   "outputs": [
    {
     "data": {
      "text/latex": [
       "$\\displaystyle 6.25=110.01_{ 2 }$"
      ],
      "text/plain": [
       "<IPython.core.display.Math object>"
      ]
     },
     "execution_count": 2,
     "metadata": {
     },
     "output_type": "execute_result"
    }
   ],
   "source": [
    "m = 6.25\n",
    "m10 = str(m) # 表示用\n",
    "m_int = int(m) # 整数部\n",
    "m_rest = m-m_int # 小数部\n",
    "m_str = bin(m_int)[2:] # 整数部表示用\n",
    "if m_rest > 0: # 小数あり\n",
    "    M = 5 # 最大小数桁数\n",
    "    k = 0\n",
    "    m_str += \".\"\n",
    "    while (k<M) and (m_rest>0):\n",
    "        m_rest *= 2\n",
    "        if m_rest >= 1:\n",
    "            m_str += \"1\"\n",
    "            m_rest -= 1\n",
    "        else:\n",
    "            m_str += \"0\"\n",
    "        k+=1\n",
    "if m_rest == 0: # 厳密値かどうか\n",
    "    display(Math(\"{0:s}={1:s}_{{ 2 }}\".format(m10,m_str)))\n",
    "else:\n",
    "    display(Math(\"{0:s}\\\\fallingdotseq{1:s}_{{ 2 }}\".format(m10,m_str)))\n"
   ]
  },
  {
   "cell_type": "code",
   "execution_count": 3,
   "metadata": {
    "collapsed": false,
    "trusted": true
   },
   "outputs": [
    {
     "data": {
      "application/vnd.jupyter.widget-view+json": {
       "model_id": "db616663a52e4a39afdc42e9aa3b9530",
       "version_major": 2,
       "version_minor": 0
      },
      "text/plain": [
       "interactive(children=(IntSlider(value=127, description='r', max=255), IntSlider(value=127, description='g', ma…"
      ]
     },
     "execution_count": 3,
     "metadata": {
     },
     "output_type": "execute_result"
    }
   ],
   "source": [
    "from ipywidgets import interact,Dropdown,IntSlider\n",
    "from IPython.display import HTML\n",
    "@interact\n",
    "def _(r=(0,255,1),g=(0,255,1),b=(0,255,1)):\n",
    "    clist = [hex(r)[2:],hex(g)[2:],hex(b)[2:]]\n",
    "    color = \"#\"\n",
    "    for chex in clist:\n",
    "        if len(chex) < 2:\n",
    "            color += \"0\"\n",
    "        color += chex\n",
    "    return HTML('<font size=4 color=\"#{0:s}\">この色は {0:s} に対応する色です．</font>'.format(color))"
   ]
  },
  {
   "cell_type": "code",
   "execution_count": 0,
   "metadata": {
    "collapsed": false,
    "trusted": false
   },
   "outputs": [
   ],
   "source": [
   ]
  }
 ],
 "metadata": {
  "kernelspec": {
   "display_name": "Python 3 (Anaconda)",
   "language": "python",
   "name": "python3",
   "resource_dir": "/usr/local/share/jupyter/kernels/python3"
  },
  "language_info": {
   "codemirror_mode": {
    "name": "ipython",
    "version": 3
   },
   "file_extension": ".py",
   "mimetype": "text/x-python",
   "name": "python",
   "nbconvert_exporter": "python",
   "pygments_lexer": "ipython3",
   "version": "3.7.10"
  },
  "toc": {
   "base_numbering": 1,
   "nav_menu": {
   },
   "number_sections": true,
   "sideBar": true,
   "skip_h1_title": false,
   "title_cell": "Table of Contents",
   "title_sidebar": "Contents",
   "toc_cell": false,
   "toc_position": {
   },
   "toc_section_display": true,
   "toc_window_display": false
  }
 },
 "nbformat": 4,
 "nbformat_minor": 4
}