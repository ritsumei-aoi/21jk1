{
 "cells": [
  {
   "cell_type": "code",
   "execution_count": null,
   "metadata": {},
   "outputs": [],
   "source": [
    "%matplotlib inline\n",
    "from IPython.display import display,Math\n",
    "from sympy import *\n",
    "init_session()"
   ]
  },
  {
   "cell_type": "code",
   "execution_count": null,
   "metadata": {},
   "outputs": [],
   "source": [
    "from ipywidgets import interact\n",
    "from ipywidgets import interact,Dropdown,IntSlider\n",
    "D = 24\n",
    "@interact\n",
    "def _(n=\"0\",d=IntSlider(value=1,min=1,max=D,step=1)):\n",
    "    n = eval(n)\n",
    "    nb = bin(n)[2:]\n",
    "    nb1 = nb[0:-d] # オーバーフロー分\n",
    "    nb2 = nb[-d:]  # 残り\n",
    "    n2 = bin(n%(2**d))[2:]\n",
    "    n2len = len(str(n2))\n",
    "    n2str = '0'*(d-n2len) + n2\n",
    "    return display(Math(\"{0:d} = \\\\color{{red}}{{{1:s} }}\\\\color{{blue}}{{{2:s} }}_2\\\\rightarrow {3:s}_2 = {4:d} \\quad({5:d}ビット)\".format(n,nb1,nb2,n2str,n%(2**d),d)))"
   ]
  },
  {
   "cell_type": "code",
   "execution_count": null,
   "metadata": {},
   "outputs": [],
   "source": [
    "m = 10.5\n",
    "m10 = str(m) # 表示用\n",
    "m_int = int(m) # 整数部\n",
    "m_rest = m-m_int # 小数部\n",
    "m_str = bin(m_int)[2:] # 整数部表示用\n",
    "if m_rest > 0: # 小数あり\n",
    "    M = 5 # 最大小数桁数\n",
    "    k = 0\n",
    "    m_str += \".\"\n",
    "    while (k<M) and (m_rest>0):\n",
    "        m_rest *= 2\n",
    "        if m_rest >= 1:\n",
    "            m_str += \"1\"\n",
    "            m_rest -= 1\n",
    "        else:\n",
    "            m_str += \"0\"\n",
    "        k+=1\n",
    "if m_rest == 0: # 厳密値かどうか\n",
    "    display(Math(\"{0:s}={1:s}_{{ 2 }}\".format(m10,m_str)))\n",
    "else:\n",
    "    display(Math(\"{0:s}\\\\fallingdotseq{1:s}_{{ 2 }}\".format(m10,m_str)))\n"
   ]
  },
  {
   "cell_type": "code",
   "execution_count": null,
   "metadata": {},
   "outputs": [],
   "source": [
    "from ipywidgets import interact\n",
    "from ipywidgets import interact,Dropdown,IntSlider\n",
    "D=1\n",
    "M=15\n",
    "@interact\n",
    "def _(m=(0,D,0.01)):\n",
    "    m10 = str(m) # 表示用\n",
    "    m_int = int(m) # 整数部\n",
    "    m_rest = m-m_int # 小数部\n",
    "    m_str = bin(m_int)[2:] # 整数部表示用\n",
    "    if m_rest > 0: # 小数あり\n",
    "        k = 0\n",
    "        m_str += \".\"\n",
    "        while (k<M) and (m_rest>0):\n",
    "            m_rest *= 2\n",
    "            if m_rest >= 1:\n",
    "                m_str += \"1\"\n",
    "                m_rest -= 1\n",
    "            else:\n",
    "                m_str += \"0\"\n",
    "            k+=1\n",
    "    if m_rest == 0: # 厳密値かどうか\n",
    "        return display(Math(\"{0:s}={1:s}_{{ 2 }}\".format(m10,m_str)))\n",
    "    else:\n",
    "        return display(Math(\"{0:s}\\\\fallingdotseq{1:s}_{{ 2 }}\".format(m10,m_str)))\n",
    "\n",
    "    return display(Math(\"{0:d} = \\\\color{{red}}{{{1:s} }}\\\\color{{blue}}{{{2:s} }}_2\\\\rightarrow {3:s}_2 = {4:d} \\quad({5:d}ビット)\".format(n,nb1,nb2,n2str,n%(2**d),d)))\n",
    "\n"
   ]
  },
  {
   "cell_type": "code",
   "execution_count": null,
   "metadata": {},
   "outputs": [],
   "source": [
    "from ipywidgets import interact,Dropdown,IntSlider\n",
    "from IPython.display import HTML\n",
    "@interact\n",
    "def _(r=(0,255,1),g=(0,255,1),b=(0,255,1)):\n",
    "    clist = [hex(r)[2:],hex(g)[2:],hex(b)[2:]]\n",
    "    color = \"\"\n",
    "    for chex in clist:\n",
    "        if len(chex) < 2:\n",
    "            color += \"0\"\n",
    "        color += chex\n",
    "    return HTML('<font size=4 color=\"#{0:s}\">この色は {0:s} に対応する色です．</font>'.format(color))"
   ]
  },
  {
   "cell_type": "code",
   "execution_count": null,
   "metadata": {},
   "outputs": [],
   "source": []
  }
 ],
 "metadata": {
  "kernelspec": {
   "display_name": "Python 3",
   "language": "python",
   "name": "python3"
  },
  "language_info": {
   "codemirror_mode": {
    "name": "ipython",
    "version": 3
   },
   "file_extension": ".py",
   "mimetype": "text/x-python",
   "name": "python",
   "nbconvert_exporter": "python",
   "pygments_lexer": "ipython3",
   "version": "3.8.5"
  },
  "toc": {
   "base_numbering": 1,
   "nav_menu": {},
   "number_sections": true,
   "sideBar": true,
   "skip_h1_title": false,
   "title_cell": "Table of Contents",
   "title_sidebar": "Contents",
   "toc_cell": false,
   "toc_position": {},
   "toc_section_display": true,
   "toc_window_display": false
  }
 },
 "nbformat": 4,
 "nbformat_minor": 4
}
