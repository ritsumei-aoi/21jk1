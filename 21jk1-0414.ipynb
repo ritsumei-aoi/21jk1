{
 "cells": [
  {
   "cell_type": "code",
   "execution_count": 0,
   "metadata": {
    "collapsed": false,
    "trusted": true
   },
   "outputs": [
   ],
   "source": [
    "%matplotlib inline\n",
    "from IPython.display import display,Math\n",
    "from sympy import *\n",
    "init_session()"
   ]
  },
  {
   "cell_type": "code",
   "execution_count": 0,
   "metadata": {
    "collapsed": false,
    "trusted": true
   },
   "outputs": [
   ],
   "source": [
    "m = 10.5\n",
    "m10 = str(m) # 表示用\n",
    "m_int = int(m) # 整数部\n",
    "m_rest = m-m_int # 小数部\n",
    "m_str = bin(m_int)[2:] # 整数部表示用\n",
    "if m_rest > 0: # 小数あり\n",
    "    M = 5 # 最大小数桁数\n",
    "    k = 0\n",
    "    m_str += \".\"\n",
    "    while (k<M) and (m_rest>0):\n",
    "        m_rest *= 2\n",
    "        if m_rest >= 1:\n",
    "            m_str += \"1\"\n",
    "            m_rest -= 1\n",
    "        else:\n",
    "            m_str += \"0\"\n",
    "        k+=1\n",
    "if m_rest == 0: # 厳密値かどうか\n",
    "    display(Math(\"{0:s}={1:s}_{{ 2 }}\".format(m10,m_str)))\n",
    "else:\n",
    "    display(Math(\"{0:s}\\\\fallingdotseq{1:s}_{{ 2 }}\".format(m10,m_str)))\n"
   ]
  },
  {
   "cell_type": "code",
   "execution_count": 0,
   "metadata": {
    "collapsed": false,
    "trusted": true
   },
   "outputs": [
   ],
   "source": [
    "from ipywidgets import interact,Dropdown,IntSlider\n",
    "from IPython.display import HTML\n",
    "@interact\n",
    "def _(r=(0,255,1),g=(0,255,1),b=(0,255,1)):\n",
    "    clist = [hex(r)[2:],hex(g)[2:],hex(b)[2:]]\n",
    "    color = \"\"\n",
    "    for chex in clist:\n",
    "        if len(chex) < 2:\n",
    "            color += \"0\"\n",
    "        color += chex\n",
    "    return HTML('<font size=4 color=\"#{0:s}\">この色は {0:s} に対応する色です．</font>'.format(color))"
   ]
  },
  {
   "cell_type": "code",
   "execution_count": 0,
   "metadata": {
    "collapsed": false,
    "trusted": false
   },
   "outputs": [
   ],
   "source": [
    "s=\"ffff00\"\n",
    "HTML('<font size=4 color=\"#{0:s}\">この色は {0:s} に対応する色です．</font>'.format(s))\n"
   ]
  },
  {
   "cell_type": "code",
   "execution_count": 0,
   "metadata": {
    "collapsed": false
   },
   "outputs": [
   ],
   "source": [
   ]
  }
 ],
 "metadata": {
  "kernelspec": {
   "display_name": "Python 3 (Anaconda)",
   "language": "python",
   "name": "python3",
   "resource_dir": "/usr/local/share/jupyter/kernels/python3"
  },
  "language_info": {
   "codemirror_mode": {
    "name": "ipython",
    "version": 3
   },
   "file_extension": ".py",
   "mimetype": "text/x-python",
   "name": "python",
   "nbconvert_exporter": "python",
   "pygments_lexer": "ipython3",
   "version": "3.7.10"
  },
  "toc": {
   "base_numbering": 1,
   "nav_menu": {
   },
   "number_sections": true,
   "sideBar": true,
   "skip_h1_title": false,
   "title_cell": "Table of Contents",
   "title_sidebar": "Contents",
   "toc_cell": false,
   "toc_position": {
   },
   "toc_section_display": true,
   "toc_window_display": false
  }
 },
 "nbformat": 4,
 "nbformat_minor": 4
}