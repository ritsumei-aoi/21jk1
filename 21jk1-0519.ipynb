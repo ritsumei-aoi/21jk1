{
 "cells": [
  {
   "cell_type": "code",
   "execution_count": null,
   "metadata": {
    "collapsed": false
   },
   "outputs": [],
   "source": [
    "%matplotlib inline\n",
    "from IPython.display import display,Math\n",
    "from sympy import *\n",
    "init_session()"
   ]
  },
  {
   "cell_type": "code",
   "execution_count": null,
   "metadata": {
    "collapsed": false
   },
   "outputs": [],
   "source": [
    "mykeys = [ i for i in range(33)]\n",
    "myvalues = [\" \"]+[chr(i) for i in range(65, 65+26)]+[\".\",\",\",\"'\",'\"',\"(\",\")\"]\n",
    "mydict = dict(zip(mykeys,myvalues))\n",
    "dlen = len(myvalues)\n",
    "from IPython.display import HTML\n",
    "from ipywidgets import interact\n",
    "from ipywidgets import interact,Dropdown,IntSlider\n",
    "@interact\n",
    "def _(ptext=\"THIS IS A PEN.\",key=\"0\"):\n",
    "    print(\"平文　：{}\".format(ptext))\n",
    "    try:\n",
    "        key = int(key)\n",
    "    except:\n",
    "        key = 0\n",
    "    etext = \"\"\n",
    "    for s in ptext:\n",
    "        etext += mydict[(myvalues.index(s)+key)%dlen]\n",
    "    print(\"暗号文：{}\".format(etext))\n"
   ]
  },
  {
   "cell_type": "code",
   "execution_count": null,
   "metadata": {
    "collapsed": false
   },
   "outputs": [],
   "source": []
  }
 ],
 "metadata": {
  "kernelspec": {
   "name": "python385jvsc74a57bd0a7209f30d626d7ca378e87ab9e54d86230903770f9cef6e8158b3fe61b437bae",
   "display_name": "Python 3.8.5 64-bit ('base': conda)"
  },
  "language_info": {
   "codemirror_mode": {
    "name": "ipython",
    "version": 3
   },
   "file_extension": ".py",
   "mimetype": "text/x-python",
   "name": "python",
   "nbconvert_exporter": "python",
   "pygments_lexer": "ipython3",
   "version": "3.8.5-final"
  },
  "toc": {
   "base_numbering": 1,
   "nav_menu": {},
   "number_sections": true,
   "sideBar": true,
   "skip_h1_title": false,
   "title_cell": "Table of Contents",
   "title_sidebar": "Contents",
   "toc_cell": false,
   "toc_position": {},
   "toc_section_display": true,
   "toc_window_display": false
  }
 },
 "nbformat": 4,
 "nbformat_minor": 4
}