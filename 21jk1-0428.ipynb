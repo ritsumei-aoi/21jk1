{
 "cells": [
  {
   "cell_type": "code",
   "execution_count": 0,
   "metadata": {
    "collapsed": false
   },
   "outputs": [
   ],
   "source": [
    "%matplotlib inline\n",
    "from IPython.display import display,Math\n",
    "from sympy import *\n",
    "init_session()"
   ]
  },
  {
   "cell_type": "code",
   "execution_count": 0,
   "metadata": {
    "collapsed": false
   },
   "outputs": [
   ],
   "source": [
    "import datetime\n",
    "utime = 0\n",
    "dt = datetime.datetime.fromtimestamp(utime,datetime.timezone.utc)\n",
    "print(\"{0:d} に対応するUNIX時間は {1:s} です．\".format(utime,str(dt)[:-6]))"
   ]
  },
  {
   "cell_type": "code",
   "execution_count": 0,
   "metadata": {
    "collapsed": false
   },
   "outputs": [
   ],
   "source": [
    "import time\n",
    "now = time.time()\n",
    "now_jst = str(datetime.datetime.fromtimestamp(now))\n",
    "now_utc = str(datetime.datetime.fromtimestamp(now,datetime.timezone.utc))\n",
    "print(\"今は{0:s}です．\\n(日本時間{1:s})\\nUNIX時間は {2:d} になります．\".format(now_utc,now_jst,int(now*10**3)))"
   ]
  },
  {
   "cell_type": "code",
   "execution_count": 0,
   "metadata": {
    "collapsed": false
   },
   "outputs": [
   ],
   "source": [
    "import time\n",
    "import datetime\n",
    "from IPython.display import HTML\n",
    "from ipywidgets import interact\n",
    "from ipywidgets import interact,Dropdown,IntSlider\n",
    "@interact\n",
    "def _(n=str(int(time.time()))):\n",
    "    n = int(eval(n))\n",
    "    dt = datetime.datetime.fromtimestamp(n,datetime.timezone.utc)\n",
    "    return HTML(\"{0:d} に対応する時間は {1:s}\".format(n,str(dt)[:-6]))\n"
   ]
  },
  {
   "cell_type": "code",
   "execution_count": 0,
   "metadata": {
    "collapsed": false
   },
   "outputs": [
   ],
   "source": [
   ]
  }
 ],
 "metadata": {
  "kernelspec": {
   "display_name": "Python 3 (Anaconda)",
   "language": "python",
   "name": "python3",
   "resource_dir": "/usr/local/share/jupyter/kernels/python3"
  },
  "language_info": {
   "codemirror_mode": {
    "name": "ipython",
    "version": 3
   },
   "file_extension": ".py",
   "mimetype": "text/x-python",
   "name": "python",
   "nbconvert_exporter": "python",
   "pygments_lexer": "ipython3",
   "version": "3.7.10"
  },
  "toc": {
   "base_numbering": 1,
   "nav_menu": {
   },
   "number_sections": true,
   "sideBar": true,
   "skip_h1_title": false,
   "title_cell": "Table of Contents",
   "title_sidebar": "Contents",
   "toc_cell": false,
   "toc_position": {
   },
   "toc_section_display": true,
   "toc_window_display": false
  }
 },
 "nbformat": 4,
 "nbformat_minor": 4
}