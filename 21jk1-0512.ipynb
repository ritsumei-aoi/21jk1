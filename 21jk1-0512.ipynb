{
 "cells": [
  {
   "cell_type": "code",
   "execution_count": 0,
   "metadata": {
    "collapsed": false
   },
   "outputs": [
   ],
   "source": [
    "%matplotlib inline\n",
    "from IPython.display import display,Math\n",
    "from sympy import *\n",
    "init_session()"
   ]
  },
  {
   "cell_type": "code",
   "execution_count": 0,
   "metadata": {
    "collapsed": false
   },
   "outputs": [
   ],
   "source": [
    "from IPython.display import HTML\n",
    "from ipywidgets import interact\n",
    "from ipywidgets import interact,Dropdown,IntSlider\n",
    "@interact\n",
    "def _(p=\"202112\",n=\"3456\"):\n",
    "    p = p[:6]\n",
    "    pstr = \"{:06d}\".format(int(p))\n",
    "    p = int(pstr)\n",
    "    n = n[:4]\n",
    "    nstr = \"{:04d}\".format(int(n))\n",
    "    n = int(nstr)\n",
    "    m = pstr + nstr\n",
    "    clist = [\"A\",\"B\",\"C\",\"H\",\"K\",\"M\",\"R\",\"U\",\"X\",\"Y\",\"Z\"]\n",
    "    sum = 0\n",
    "    for i in range(len(m)):\n",
    "        sum += int(m[i])*(i+1)\n",
    "    c = sum%11\n",
    "    m = m + clist[c]\n",
    "    print(\"会場：{}\\n番号：{}\\nのチェックディジットは{}なので\\n受験番号：{}\\nとなります\".format(p,n,c,m))"
   ]
  },
  {
   "cell_type": "markdown",
   "metadata": {
    "collapsed": false
   },
   "source": [
    "以下は[ここ](https://ja.wikipedia.org/wiki/Luhn%E3%82%A2%E3%83%AB%E3%82%B4%E3%83%AA%E3%82%BA%E3%83%A0)\n",
    "にあったコードを用いて作成した．"
   ]
  },
  {
   "cell_type": "code",
   "execution_count": 0,
   "metadata": {
    "collapsed": false
   },
   "outputs": [
   ],
   "source": [
    "def check_number(digits):\n",
    "    _sum = 0\n",
    "    alt = False\n",
    "    for d in reversed(str(digits)):\n",
    "        d = int(d)\n",
    "        assert 0 <= d <= 9\n",
    "        if alt:\n",
    "            d *= 2\n",
    "            if d > 9:\n",
    "                d -= 9\n",
    "        _sum += d\n",
    "        alt = not alt\n",
    "    return (_sum % 10) == 0\n",
    "\n",
    "from IPython.display import HTML\n",
    "from ipywidgets import interact\n",
    "from ipywidgets import interact,Dropdown,IntSlider\n",
    "@interact\n",
    "def _(n=\"49927398716\"):\n",
    "    check = check_number(n)\n",
    "    if check:\n",
    "        print(\"{}は正しい\".format(n))\n",
    "    else:\n",
    "        print(\"{}は正しくない\".format(n))"
   ]
  },
  {
   "cell_type": "code",
   "execution_count": 0,
   "metadata": {
    "collapsed": false
   },
   "outputs": [
   ],
   "source": [
   ]
  }
 ],
 "metadata": {
  "kernelspec": {
   "display_name": "Python 3 (Anaconda)",
   "language": "python",
   "name": "python3",
   "resource_dir": "/usr/local/share/jupyter/kernels/python3"
  },
  "language_info": {
   "codemirror_mode": {
    "name": "ipython",
    "version": 3
   },
   "file_extension": ".py",
   "mimetype": "text/x-python",
   "name": "python",
   "nbconvert_exporter": "python",
   "pygments_lexer": "ipython3",
   "version": "3.7.10"
  },
  "toc": {
   "base_numbering": 1,
   "nav_menu": {
   },
   "number_sections": true,
   "sideBar": true,
   "skip_h1_title": false,
   "title_cell": "Table of Contents",
   "title_sidebar": "Contents",
   "toc_cell": false,
   "toc_position": {
   },
   "toc_section_display": true,
   "toc_window_display": false
  }
 },
 "nbformat": 4,
 "nbformat_minor": 4
}