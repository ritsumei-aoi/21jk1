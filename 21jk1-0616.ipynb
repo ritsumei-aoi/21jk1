{
 "cells": [
  {
   "cell_type": "code",
   "execution_count": 1,
   "metadata": {
    "collapsed": false
   },
   "outputs": [
    {
     "name": "stdout",
     "output_type": "stream",
     "text": [
      "IPython console for SymPy 1.8 (Python 3.7.10-64-bit) (ground types: gmpy)\n",
      "\n",
      "These commands were executed:\n",
      ">>> from __future__ import division\n",
      ">>> from sympy import *\n",
      ">>> x, y, z, t = symbols('x y z t')\n",
      ">>> k, m, n = symbols('k m n', integer=True)\n",
      ">>> f, g, h = symbols('f g h', cls=Function)\n",
      ">>> init_printing()\n",
      "\n",
      "Documentation can be found at https://docs.sympy.org/1.8/\n",
      "\n"
     ]
    }
   ],
   "source": [
    "%matplotlib inline\n",
    "from IPython.display import display,Math\n",
    "from sympy import *\n",
    "init_session()"
   ]
  },
  {
   "cell_type": "code",
   "execution_count": 9,
   "metadata": {
    "collapsed": false
   },
   "outputs": [
    {
     "name": "stdout",
     "output_type": "stream",
     "text": [
      "22 16\n",
      "CPU times: user 57 µs, sys: 0 ns, total: 57 µs\n",
      "Wall time: 60.3 µs\n"
     ]
    }
   ],
   "source": [
    "%%time\n",
    "# ユークリッドの互除法\n",
    "a, b = 20210608, 80601202\n",
    "r = a%b\n",
    "count = 1\n",
    "while r != 0:\n",
    "    a,b = b,r\n",
    "    r = a%b\n",
    "    count += 1\n",
    "print(b,count)"
   ]
  },
  {
   "cell_type": "code",
   "execution_count": 10,
   "metadata": {
    "collapsed": false
   },
   "outputs": [
    {
     "name": "stdout",
     "output_type": "stream",
     "text": [
      "22 11\n",
      "CPU times: user 239 µs, sys: 56 µs, total: 295 µs\n",
      "Wall time: 208 µs\n"
     ]
    }
   ],
   "source": [
    "%%time\n",
    "# ユークリッドの互除法　余りの改良\n",
    "a, b = 20210608, 80601202\n",
    "r = a%b\n",
    "count = 1\n",
    "while r != 0:\n",
    "    a,b = b,r\n",
    "    r = a%b\n",
    "    count += 1\n",
    "    if b < 2*r:\n",
    "        r = b-r\n",
    "print(b,count)"
   ]
  },
  {
   "cell_type": "code",
   "execution_count": 14,
   "metadata": {
    "collapsed": false
   },
   "outputs": [
   ],
   "source": [
    "# 拡張ユークリッドの互除法\n",
    "def myexgcd(a,b):\n",
    "    x, y, u, v = 1, 0, 0, 1\n",
    "    while b != 0:\n",
    "        q = a // b\n",
    "        x -= q * u\n",
    "        y -= q * v\n",
    "        x, u = u, x\n",
    "        y, v = v, y\n",
    "        a, b = b, a % b\n",
    "    return x, y"
   ]
  },
  {
   "cell_type": "code",
   "execution_count": 18,
   "metadata": {
    "collapsed": false
   },
   "outputs": [
    {
     "name": "stdout",
     "output_type": "stream",
     "text": [
      "47*123-18*321=3\n"
     ]
    }
   ],
   "source": [
    "# 動作確認\n",
    "a,b = 123,321\n",
    "x,y = myexgcd(a,b)\n",
    "print(\"{:d}*{:d}{:+d}*{:d}={:d}\".format(x,a,y,b,x*a+y*b))"
   ]
  },
  {
   "cell_type": "code",
   "execution_count": 19,
   "metadata": {
    "collapsed": false
   },
   "outputs": [
    {
     "data": {
      "application/vnd.jupyter.widget-view+json": {
       "model_id": "bf7bd9720e654f87b1af5fc5f1b807bb",
       "version_major": 2,
       "version_minor": 0
      },
      "text/plain": [
       "interactive(children=(Text(value='314159265', description='a'), Text(value='35', description='b'), Output()), …"
      ]
     },
     "execution_count": 19,
     "metadata": {
     },
     "output_type": "execute_result"
    }
   ],
   "source": [
    "from ipywidgets import interact\n",
    "import time\n",
    "def myexgcd(a,b):\n",
    "    x, y, u, v = 1, 0, 0, 1\n",
    "    while b != 0:\n",
    "        q = a // b\n",
    "        x -= q * u\n",
    "        y -= q * v\n",
    "        x, u = u, x\n",
    "        y, v = v, y\n",
    "        a, b = b, a % b\n",
    "    return x, y\n",
    "@interact\n",
    "def _(a=\"314159265\",b=\"35\"):\n",
    "    digits = len(b)\n",
    "    a,b = int(a),int(b)\n",
    "    x,y = myexgcd(a,b)\n",
    "    return display(Math(\"{:d}*{:d}{:+d}*{:d}={:d}\".format(x,a,y,b,x*a+y*b)))"
   ]
  },
  {
   "cell_type": "code",
   "execution_count": 0,
   "metadata": {
    "collapsed": false
   },
   "outputs": [
   ],
   "source": [
   ]
  }
 ],
 "metadata": {
  "kernelspec": {
   "display_name": "Python 3",
   "language": "python",
   "name": "python3",
   "resource_dir": "/usr/local/share/jupyter/kernels/python3"
  },
  "language_info": {
   "codemirror_mode": {
    "name": "ipython",
    "version": 3
   },
   "file_extension": ".py",
   "mimetype": "text/x-python",
   "name": "python",
   "nbconvert_exporter": "python",
   "pygments_lexer": "ipython3",
   "version": "3.7.10"
  },
  "toc": {
   "base_numbering": 1,
   "nav_menu": {
   },
   "number_sections": true,
   "sideBar": true,
   "skip_h1_title": false,
   "title_cell": "Table of Contents",
   "title_sidebar": "Contents",
   "toc_cell": false,
   "toc_position": {
   },
   "toc_section_display": true,
   "toc_window_display": false
  }
 },
 "nbformat": 4,
 "nbformat_minor": 4
}