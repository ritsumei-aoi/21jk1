{
 "cells": [
  {
   "cell_type": "code",
   "execution_count": 0,
   "metadata": {
    "colab": {
     "base_uri": "https://localhost:8080/"
    },
    "collapsed": false,
    "executionInfo": {
     "elapsed": 1418,
     "status": "ok",
     "timestamp": 1622946371669,
     "user": {
      "displayName": "aoi ritsumei",
      "photoUrl": "",
      "userId": "17443815443532056029"
     },
     "user_tz": -540
    },
    "id": "STWP0vz8YmIg",
    "outputId": "54596a06-e679-47fc-f48f-6882514b7af1"
   },
   "outputs": [
   ],
   "source": [
    "%matplotlib inline\n",
    "from IPython.display import display, Math\n",
    "from sympy import *\n",
    "init_session()"
   ]
  },
  {
   "cell_type": "code",
   "execution_count": 0,
   "metadata": {
    "collapsed": false,
    "executionInfo": {
     "elapsed": 12,
     "status": "ok",
     "timestamp": 1622946371670,
     "user": {
      "displayName": "aoi ritsumei",
      "photoUrl": "",
      "userId": "17443815443532056029"
     },
     "user_tz": -540
    },
    "id": "tIcvZFWEYmIv"
   },
   "outputs": [
   ],
   "source": [
    "%matplotlib inline\n",
    "import matplotlib.pyplot as plt\n",
    "import matplotlib.animation as animation\n",
    "from IPython import display\n",
    "\n",
    "import random\n",
    "import numpy as npc"
   ]
  },
  {
   "cell_type": "code",
   "execution_count": 0,
   "metadata": {
    "colab": {
     "base_uri": "https://localhost:8080/"
    },
    "collapsed": false,
    "executionInfo": {
     "elapsed": 12,
     "status": "ok",
     "timestamp": 1622946371670,
     "user": {
      "displayName": "aoi ritsumei",
      "photoUrl": "",
      "userId": "17443815443532056029"
     },
     "user_tz": -540
    },
    "id": "9uxx_MpmYmIx",
    "outputId": "72bdcdb7-9a3f-4e0a-c294-b3c3b2ee2990"
   },
   "outputs": [
   ],
   "source": [
    "# バブルソート\n",
    "n = 10\n",
    "a = [3,1,4,1,5,9,2,6,5,3] # 配列の定義\n",
    "for i in range(n): # range(t) で 0 から t-1 まで\n",
    "    for k in range(1,n-i): # range(s,t) で s から t-1 まで\n",
    "        if a[n-k-1] > a[n-k]: # 左の方が大きければ交換\n",
    "            a[n-k-1],a[n-k]=a[n-k],a[n-k-1]\n",
    "            print(a)"
   ]
  },
  {
   "cell_type": "code",
   "execution_count": 0,
   "metadata": {
    "colab": {
     "base_uri": "https://localhost:8080/"
    },
    "collapsed": false,
    "executionInfo": {
     "elapsed": 202,
     "status": "ok",
     "timestamp": 1622948251206,
     "user": {
      "displayName": "aoi ritsumei",
      "photoUrl": "",
      "userId": "17443815443532056029"
     },
     "user_tz": -540
    },
    "id": "jgaQVLfSYmIz",
    "outputId": "87b006da-f64e-46a0-9c79-12626b0040c6",
    "scrolled": true
   },
   "outputs": [
   ],
   "source": [
    "N = 20\n",
    "data = [random.randint(0,100) for i in range(N)]\n",
    "\n",
    "# First set up the figure, the axes, and the plot element\n",
    "fig, ax = plt.subplots()\n",
    "plt.close()\n",
    "\n",
    "\n",
    "#plt.title(\"The Unsorted data\")\n",
    "#plt.bar(np.arange(len(data)), data)\n",
    "#plt.show()\n",
    "#fig = plt.figure()\n",
    "\n",
    "datalist = [data]\n",
    "def bubble_sort(data):\n",
    "    N = len(data)\n",
    "    done = False\n",
    "    while not done:\n",
    "        swapped = False\n",
    "        for i in range(N-1):\n",
    "            if data[N-i-2] > data[N-i-1]:\n",
    "                data[N-i-2], data[N-i-1] = data[N-i-1], data[N-i-2]\n",
    "                swapped = True\n",
    "                datalist.append(data.copy())\n",
    "        if not swapped:\n",
    "            done = True\n",
    "    return data,datalist\n",
    "\n",
    "data,datalist = bubble_sort(data)\n",
    "print(len(datalist))\n",
    "\n",
    "def init():\n",
    "    return plt.bar(np.arange(len(data)), data)\n",
    "\n",
    "def update(i,datalist):\n",
    "    mycolor='blue'\n",
    "    #print(datalist[i])\n",
    "    if i != 0:\n",
    "        ax.cla()\n",
    "    if i == len(datalist) -1:\n",
    "        mycolor='orange'\n",
    "    return (ax.bar(np.arange(len(datalist[i])), datalist[i],color=mycolor),)\n",
    "\n",
    "ani = animation.FuncAnimation(fig, update, init_func=init, fargs = [datalist],\n",
    "                              interval=150, repeat=False,frames=len(datalist))\n"
   ]
  },
  {
   "cell_type": "code",
   "execution_count": 0,
   "metadata": {
    "colab": {
     "base_uri": "https://localhost:8080/",
     "height": 387
    },
    "collapsed": false,
    "executionInfo": {
     "elapsed": 431,
     "status": "ok",
     "timestamp": 1622948285044,
     "user": {
      "displayName": "aoi ritsumei",
      "photoUrl": "",
      "userId": "17443815443532056029"
     },
     "user_tz": -540
    },
    "id": "y79G_7nxZLXe",
    "outputId": "941a4a18-ea34-457e-e133-cf927c28af0f"
   },
   "outputs": [
   ],
   "source": [
    "from IPython.display import HTML\n",
    "from matplotlib import animation, rc\n",
    "\n",
    "from IPython.display import HTML\n",
    "\n",
    "ax.cla()\n",
    "rc('animation', html='jshtml')\n",
    "HTML(ani.to_html5_video())"
   ]
  },
  {
   "cell_type": "code",
   "execution_count": 0,
   "metadata": {
    "colab": {
     "base_uri": "https://localhost:8080/",
     "height": 563
    },
    "collapsed": false,
    "executionInfo": {
     "elapsed": 778,
     "status": "ok",
     "timestamp": 1622948724765,
     "user": {
      "displayName": "aoi ritsumei",
      "photoUrl": "",
      "userId": "17443815443532056029"
     },
     "user_tz": -540
    },
    "id": "EEn5Nni3YmI3",
    "outputId": "aa792d30-2c6e-44c9-dceb-21f0337b964c",
    "scrolled": true
   },
   "outputs": [
   ],
   "source": [
    "N = 20\n",
    "data = [random.randint(0,100) for i in range(N)]\n",
    "plt.title(\"The Unsorted data\")\n",
    "plt.bar(np.arange(len(data)), data)\n",
    "plt.show()\n",
    "\n",
    "# First set up the figure, the axes, and the plot element\n",
    "fig, ax = plt.subplots()\n",
    "plt.close()\n",
    "\n",
    "\n",
    "#fig = plt.figure()\n",
    "\n",
    "datalist = [data]\n",
    "def quick_sort(data,i,j,datalist=[],swap=[0]):\n",
    "    if j-i<=1:\n",
    "        if data[i] > data[j]:\n",
    "            data[i],data[j]=data[j],data[i]\n",
    "            swap[0]=swap[0]+1\n",
    "            datalist.append(data.copy())\n",
    "        return\n",
    "    f = 0\n",
    "    c = data[i]\n",
    "    for k in range(i+1,j+1):\n",
    "        if c != data[k]:\n",
    "            f = 1\n",
    "            c = (c+data[k])/2\n",
    "            break\n",
    "    if f==0:\n",
    "        return\n",
    "    else:\n",
    "        #print(data)\n",
    "        #print (i,j,c)\n",
    "        k1 = i\n",
    "        k2 = j\n",
    "        while(k1<=j and k2>=i and k1<k2):\n",
    "            while(k1<=k2 and data[k1]<c):\n",
    "                k1=k1+1\n",
    "            while(k2>=k1 and data[k2]>=c):\n",
    "                k2=k2-1\n",
    "            if (k1<k2):\n",
    "                data[k1],data[k2]=data[k2],data[k1]\n",
    "                swap[0]=swap[0]+1\n",
    "                datalist.append(data.copy())\n",
    "        if data[k1]<c:\n",
    "            i2=k1\n",
    "        else:\n",
    "            i2=k1-1\n",
    "        quick_sort(data,i,i2,datalist=datalist,swap=swap)\n",
    "        quick_sort(data,i2+1,j,datalist=datalist,swap=swap)\n",
    "swap = [0]\n",
    "datalist = []\n",
    "quick_sort(data,0,N-1,datalist,swap)\n",
    "print(swap[0],len(datalist))\n",
    "def update(i,datalist):\n",
    "    mycolor='blue'\n",
    "    if i != 0:\n",
    "        ax.cla()\n",
    "    if i == len(datalist) -1:\n",
    "        mycolor='orange'\n",
    "    return (ax.bar(np.arange(len(datalist[i])), datalist[i],color=mycolor),)\n",
    "\n",
    "ani = animation.FuncAnimation(fig, update, fargs = ([datalist]),interval=10**4/swap[0], \n",
    "                              repeat=False,frames=len(datalist)) \n",
    "#ani.save(\"quicksort.mp4\")\n",
    "plt.title(\"All sorted\")\n",
    "plt.bar(np.arange(len(data)), data)\n",
    "plt.show()"
   ]
  },
  {
   "cell_type": "code",
   "execution_count": 0,
   "metadata": {
    "colab": {
     "base_uri": "https://localhost:8080/",
     "height": 387
    },
    "collapsed": false,
    "executionInfo": {
     "elapsed": 11366,
     "status": "ok",
     "timestamp": 1622948740803,
     "user": {
      "displayName": "aoi ritsumei",
      "photoUrl": "",
      "userId": "17443815443532056029"
     },
     "user_tz": -540
    },
    "id": "0UMkfwdQQph8",
    "outputId": "534f6198-66f9-4650-859e-7da879b7e216",
    "scrolled": true
   },
   "outputs": [
   ],
   "source": [
    "from IPython.display import HTML\n",
    "from matplotlib import animation, rc\n",
    "\n",
    "from IPython.display import HTML\n",
    "\n",
    "ax.cla()\n",
    "rc('animation', html='jshtml')\n",
    "HTML(ani.to_html5_video())"
   ]
  },
  {
   "cell_type": "code",
   "execution_count": 0,
   "metadata": {
    "collapsed": false,
    "id": "pDRjgd3oZj6D"
   },
   "outputs": [
   ],
   "source": [
   ]
  },
  {
   "cell_type": "code",
   "execution_count": 0,
   "metadata": {
    "collapsed": false
   },
   "outputs": [
   ],
   "source": [
   ]
  }
 ],
 "metadata": {
  "colab": {
   "collapsed_sections": [
   ],
   "name": "21jk1-sort.ipynb",
   "provenance": [
   ]
  },
  "kernelspec": {
   "display_name": "Python 3",
   "language": "python",
   "name": "python3",
   "resource_dir": "/usr/local/share/jupyter/kernels/python3"
  },
  "language_info": {
   "codemirror_mode": {
    "name": "ipython",
    "version": 3
   },
   "file_extension": ".py",
   "mimetype": "text/x-python",
   "name": "python",
   "nbconvert_exporter": "python",
   "pygments_lexer": "ipython3",
   "version": "3.7.10"
  }
 },
 "nbformat": 4,
 "nbformat_minor": 4
}