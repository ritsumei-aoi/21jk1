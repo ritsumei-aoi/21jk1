{
 "cells": [
  {
   "cell_type": "code",
   "execution_count": 1,
   "metadata": {
    "collapsed": false
   },
   "outputs": [
    {
     "output_type": "stream",
     "name": "stdout",
     "text": [
      "IPython console for SymPy 1.7.1 (Python 3.8.8-64-bit) (ground types: gmpy)\n\nThese commands were executed:\n>>> from __future__ import division\n>>> from sympy import *\n>>> x, y, z, t = symbols('x y z t')\n>>> k, m, n = symbols('k m n', integer=True)\n>>> f, g, h = symbols('f g h', cls=Function)\n>>> init_printing()\n\nDocumentation can be found at https://docs.sympy.org/1.7.1/\n\n"
     ]
    }
   ],
   "source": [
    "%matplotlib inline\n",
    "from IPython.display import display,Math\n",
    "from sympy import *\n",
    "init_session()"
   ]
  },
  {
   "cell_type": "code",
   "execution_count": 9,
   "metadata": {
    "collapsed": false
   },
   "outputs": [
    {
     "output_type": "display_data",
     "data": {
      "text/plain": "interactive(children=(Text(value='RITS.JP', description='ptext'), Output()), _dom_classes=('widget-interact',)…",
      "application/vnd.jupyter.widget-view+json": {
       "version_major": 2,
       "version_minor": 0,
       "model_id": "e1ecb18102294a8d8e995c4b5c81ee53"
      }
     },
     "metadata": {}
    }
   ],
   "source": [
    "mykeys = [ i for i in range(33)]\n",
    "myvalues = [\" \"]+[chr(i) for i in range(65, 65+26)]+[\".\",\",\",\"'\",'\"',\"(\",\")\"]\n",
    "mydict = dict(zip(mykeys,myvalues))\n",
    "dlen = len(myvalues)\n",
    "from IPython.display import HTML\n",
    "from ipywidgets import interact\n",
    "from ipywidgets import interact,Dropdown,IntSlider\n",
    "@interact\n",
    "def _(ptext=\"RITS.JP\"):\n",
    "    key_p,key_s,n = 3,7,33\n",
    "    print(\"平文　：{}\".format(ptext))\n",
    "    etext = \"\"\n",
    "    petext = \"\"\n",
    "    for s in ptext:\n",
    "        snum_plain = myvalues.index(s)\n",
    "        snum_encrypt = pow(snum_plain,key_p,n)\n",
    "        etext += mydict[snum_encrypt]\n",
    "    print(\"pによる暗号文：{}\".format(etext))\n",
    "    for s in etext:\n",
    "        snum_encrypt = myvalues.index(s)\n",
    "        snum_encrypt2 = pow(snum_encrypt,key_s,n)\n",
    "        petext += mydict[snum_encrypt2]\n",
    "    print(\"sにより復号：{}\".format(petext))\n",
    "\n"
   ]
  },
  {
   "cell_type": "code",
   "execution_count": null,
   "metadata": {
    "collapsed": false
   },
   "outputs": [],
   "source": []
  }
 ],
 "metadata": {
  "kernelspec": {
   "name": "python388jvsc74a57bd0a7209f30d626d7ca378e87ab9e54d86230903770f9cef6e8158b3fe61b437bae",
   "display_name": "Python 3.8.8 64-bit ('base': conda)"
  },
  "language_info": {
   "codemirror_mode": {
    "name": "ipython",
    "version": 3
   },
   "file_extension": ".py",
   "mimetype": "text/x-python",
   "name": "python",
   "nbconvert_exporter": "python",
   "pygments_lexer": "ipython3",
   "version": "3.8.8"
  },
  "toc": {
   "base_numbering": 1,
   "nav_menu": {},
   "number_sections": true,
   "sideBar": true,
   "skip_h1_title": false,
   "title_cell": "Table of Contents",
   "title_sidebar": "Contents",
   "toc_cell": false,
   "toc_position": {},
   "toc_section_display": true,
   "toc_window_display": false
  }
 },
 "nbformat": 4,
 "nbformat_minor": 4
}