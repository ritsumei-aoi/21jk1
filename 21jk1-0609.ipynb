{
 "cells": [
  {
   "cell_type": "code",
   "execution_count": 0,
   "metadata": {
    "collapsed": false
   },
   "outputs": [
   ],
   "source": [
    "%matplotlib inline\n",
    "from IPython.display import display,Math\n",
    "from sympy import *\n",
    "init_session()"
   ]
  },
  {
   "cell_type": "code",
   "execution_count": 0,
   "metadata": {
    "collapsed": false
   },
   "outputs": [
   ],
   "source": [
    "%%time\n",
    "# 最大公約数 gcd(a, b) を求めるアルゴリズム その1\n",
    "a, b = 20210608, 80601202\n",
    "i = 1\n",
    "while i <= b:\n",
    "    if a%i == 0:\n",
    "        if b%i == 0:\n",
    "            M  = i\n",
    "    i = i+1\n",
    "print(M)"
   ]
  },
  {
   "cell_type": "code",
   "execution_count": 0,
   "metadata": {
    "collapsed": false
   },
   "outputs": [
   ],
   "source": [
    "%%time\n",
    "# 最大公約数 gcd(a, b) を求めるアルゴリズム その2\n",
    "a, b = 20210608, 80601202\n",
    "r = a%b\n",
    "while r != 0:\n",
    "    a,b = b,r\n",
    "    r = a%b\n",
    "print(b)"
   ]
  },
  {
   "cell_type": "code",
   "execution_count": 0,
   "metadata": {
    "collapsed": false
   },
   "outputs": [
   ],
   "source": [
    "from ipywidgets import interact\n",
    "import time\n",
    "def mygcd2(a,b):\n",
    "    r = a%b\n",
    "    count = 1\n",
    "    while r != 0:\n",
    "        count += 1\n",
    "        a,b = b,r\n",
    "        r = a%b\n",
    "    return b,count\n",
    "@interact\n",
    "def _(a=\"314159265\",b=\"35\"):\n",
    "    digits = len(b)\n",
    "    a,b = int(a),int(b)\n",
    "    d,count = mygcd2(a,b)\n",
    "    return display(Math(\"gcd({0:d},{1:d})={2:d}, (digits,count)=({3:d},{4:d})\".format(a,b,d,digits,count)))"
   ]
  },
  {
   "cell_type": "code",
   "execution_count": 0,
   "metadata": {
    "collapsed": false
   },
   "outputs": [
   ],
   "source": [
   ]
  },
  {
   "cell_type": "code",
   "execution_count": 0,
   "metadata": {
    "collapsed": false
   },
   "outputs": [
   ],
   "source": [
   ]
  }
 ],
 "metadata": {
  "kernelspec": {
   "display_name": "Python 3",
   "language": "python",
   "name": "python3",
   "resource_dir": "/usr/local/share/jupyter/kernels/python3"
  },
  "language_info": {
   "codemirror_mode": {
    "name": "ipython",
    "version": 3
   },
   "file_extension": ".py",
   "mimetype": "text/x-python",
   "name": "python",
   "nbconvert_exporter": "python",
   "pygments_lexer": "ipython3",
   "version": "3.7.10"
  },
  "toc": {
   "base_numbering": 1,
   "nav_menu": {
   },
   "number_sections": true,
   "sideBar": true,
   "skip_h1_title": false,
   "title_cell": "Table of Contents",
   "title_sidebar": "Contents",
   "toc_cell": false,
   "toc_position": {
   },
   "toc_section_display": true,
   "toc_window_display": false
  }
 },
 "nbformat": 4,
 "nbformat_minor": 4
}