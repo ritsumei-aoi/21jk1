{
 "cells": [
  {
   "cell_type": "code",
   "execution_count": 0,
   "metadata": {
    "collapsed": false
   },
   "outputs": [
   ],
   "source": [
    "%matplotlib inline\n",
    "from IPython.display import display,Math\n",
    "from sympy import *\n",
    "from graphviz import Graph\n",
    "from graphviz import Digraph\n",
    "\n",
    "init_session()"
   ]
  },
  {
   "cell_type": "code",
   "execution_count": 0,
   "metadata": {
    "collapsed": false
   },
   "outputs": [
   ],
   "source": [
    "# 以下を用いた：\n",
    "# https://qiita.com/menon/items/657f67bb2817e25b2222\n",
    "import random\n",
    "\n",
    "class Node:\n",
    "    def __init__(self, data): #コンストラクタ\n",
    "        self.data = data #ノードがもつ数値\n",
    "        self.left = None #左エッジ\n",
    "        self.right = None #右エッジ\n",
    "\n",
    "\n",
    "class BST:\n",
    "    def __init__(self, number_list): #コンストラクタ\n",
    "        self.root = None #ルートノード初期化\n",
    "        for node in number_list: #数値を持つ配列から二分木を生成\n",
    "            self.insert(node) #挿入メソッドを使ってノードを挿入する\n",
    "    #挿入\n",
    "    def insert(self, data):\n",
    "        n = self.root\n",
    "        if n == None:\n",
    "            self.root = Node(data)\n",
    "            return\n",
    "        else:\n",
    "            while True:\n",
    "                entry = n.data\n",
    "                if data < entry:\n",
    "                    if n.left is None:\n",
    "                        n.left = Node(data)\n",
    "                        return\n",
    "                    n = n.left\n",
    "                elif data > entry:\n",
    "                    if n.right is None:\n",
    "                        n.right = Node(data)\n",
    "                        return\n",
    "                    n = n.right\n",
    "                else:\n",
    "                    n.data = data\n",
    "                    return\n",
    "    #検索機能(インターフェース)\n",
    "    def search(self, search):\n",
    "        searcher = self._search_bool(search)\n",
    "        if searcher is None:\n",
    "            print(\"Search target is not found.\")\n",
    "        elif searcher == True:\n",
    "            print(str(search) + \" is found!\")\n",
    "        elif searcher == False:\n",
    "            print(str(search) + \" is not found.\")\n",
    "\n",
    "    #検索機能本体(出力:boolean),深さ優先探索\n",
    "    #nodeのvisitedはpopで代用\n",
    "    def _search_bool(self, search):\n",
    "        n = self.root\n",
    "        if n is None:\n",
    "            return None\n",
    "        else:\n",
    "            lst = []\n",
    "            lst.append(n)\n",
    "            while len(lst) > 0:\n",
    "                node = lst.pop()\n",
    "                if node.data == search:\n",
    "                    return True\n",
    "                if node.right is not None:\n",
    "                    lst.append(node.right)\n",
    "                if node.left is not None:\n",
    "                    lst.append(node.left)\n",
    "            return False\n",
    "\n",
    "    def inorder(self,node): #中順探索 l->r->p^n\n",
    "        if node is not None:\n",
    "            self.inorder(node.left)\n",
    "            print(node.data)\n",
    "            self.inorder(node.right)\n",
    "\n",
    "# 二分探索木からグラフを作成する関数\n",
    "def mymaketree(mynode,g):\n",
    "    g.node(str(mynode.data))\n",
    "    if mynode.left != None:\n",
    "        g.edge(str(mynode.data),str(mynode.left.data))\n",
    "        mymaketree(mynode.left,g)\n",
    "    if mynode.right != None:\n",
    "        g.edge(str(mynode.data),str(mynode.right.data))\n",
    "        mymaketree(mynode.right,g)\n",
    "    return g\n"
   ]
  },
  {
   "cell_type": "code",
   "execution_count": 0,
   "metadata": {
    "collapsed": false
   },
   "outputs": [
   ],
   "source": [
    "# リストから二分探索木を表示\n",
    "# 描画の関係上，子が1つの場合，左右どちらの枝かは子を見ないと分からないことに注意\n",
    "mylist = [33,12,50,20,7,2,82]\n",
    "mytree = BST(mylist)\n",
    "mygraph= Digraph()\n",
    "g = Digraph()\n",
    "g = mymaketree(mytree.root,g)\n",
    "g"
   ]
  },
  {
   "cell_type": "code",
   "execution_count": 0,
   "metadata": {
    "collapsed": false
   },
   "outputs": [
   ],
   "source": [
    "#j インタラクティブに表示\n",
    "from ipywidgets import interact\n",
    "@interact\n",
    "def _(mylist=\"33,12,50,20,7,2,82\"):\n",
    "    mylist = mylist.split(',')\n",
    "    for i in range(len(mylist)):\n",
    "        mylist[i] = int(mylist[i])\n",
    "    mytree = BST(mylist)\n",
    "    g = Digraph()\n",
    "    g = mymaketree(mytree.root,g)\n",
    "    return g\n"
   ]
  },
  {
   "cell_type": "code",
   "execution_count": 0,
   "metadata": {
    "collapsed": false
   },
   "outputs": [
   ],
   "source": [
   ]
  }
 ],
 "metadata": {
  "kernelspec": {
   "display_name": "Python 3",
   "language": "python",
   "name": "python3",
   "resource_dir": "/usr/local/share/jupyter/kernels/python3"
  },
  "language_info": {
   "codemirror_mode": {
    "name": "ipython",
    "version": 3
   },
   "file_extension": ".py",
   "mimetype": "text/x-python",
   "name": "python",
   "nbconvert_exporter": "python",
   "pygments_lexer": "ipython3",
   "version": "3.7.10"
  },
  "toc": {
   "base_numbering": 1,
   "nav_menu": {
   },
   "number_sections": true,
   "sideBar": true,
   "skip_h1_title": false,
   "title_cell": "Table of Contents",
   "title_sidebar": "Contents",
   "toc_cell": false,
   "toc_position": {
   },
   "toc_section_display": true,
   "toc_window_display": false
  }
 },
 "nbformat": 4,
 "nbformat_minor": 4
}