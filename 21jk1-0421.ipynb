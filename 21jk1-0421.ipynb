{
 "cells": [
  {
   "cell_type": "code",
   "execution_count": 9,
   "metadata": {},
   "outputs": [
    {
     "name": "stdout",
     "output_type": "stream",
     "text": [
      "IPython console for SymPy 1.7.1 (Python 3.8.5-64-bit) (ground types: gmpy)\n",
      "\n",
      "These commands were executed:\n",
      ">>> from __future__ import division\n",
      ">>> from sympy import *\n",
      ">>> x, y, z, t = symbols('x y z t')\n",
      ">>> k, m, n = symbols('k m n', integer=True)\n",
      ">>> f, g, h = symbols('f g h', cls=Function)\n",
      ">>> init_printing()\n",
      "\n",
      "Documentation can be found at https://docs.sympy.org/1.7.1/\n",
      "\n"
     ]
    }
   ],
   "source": [
    "%matplotlib inline\n",
    "from IPython.display import display,Math\n",
    "from sympy import *\n",
    "init_session()"
   ]
  },
  {
   "cell_type": "code",
   "execution_count": 10,
   "metadata": {},
   "outputs": [
    {
     "data": {
      "application/vnd.jupyter.widget-view+json": {
       "model_id": "f00d96631fd7442b8653827a732f408c",
       "version_major": 2,
       "version_minor": 0
      },
      "text/plain": [
       "interactive(children=(Text(value='1', description='n'), Output()), _dom_classes=('widget-interact',))"
      ]
     },
     "metadata": {},
     "output_type": "display_data"
    }
   ],
   "source": [
    "from ipywidgets import interact\n",
    "from ipywidgets import interact,Dropdown,IntSlider\n",
    "@interact\n",
    "def _(n=\"1\"):\n",
    "    dlist = []\n",
    "    for s in str(n)[::-1]: # 逆順に1文字ずつ登録\n",
    "        dlist.append(s)\n",
    "    sum1 = int(dlist[0]) # 各桁の和\n",
    "    sum1str = dlist[0] # 計算式\n",
    "    for s in dlist[1:]:\n",
    "        d = int(s)\n",
    "        sum1 += d\n",
    "        sum1str += \"+{}\".format(s)\n",
    "    if sum1%3 == 0:\n",
    "        check3 = \"3の倍数です\"\n",
    "    else:\n",
    "        check3 = \"3の倍数ではない\"\n",
    "    return display(Math(\"{}={}\\\\equiv{} \\mod 3 \\\\\\\\ より{}は{}\".format(sum1str,sum1,sum1%3,n,check3)))"
   ]
  },
  {
   "cell_type": "code",
   "execution_count": 13,
   "metadata": {},
   "outputs": [
    {
     "data": {
      "application/vnd.jupyter.widget-view+json": {
       "model_id": "f174a7ab81384bcd83bab357005b2429",
       "version_major": 2,
       "version_minor": 0
      },
      "text/plain": [
       "interactive(children=(Text(value='1', description='n'), Output()), _dom_classes=('widget-interact',))"
      ]
     },
     "metadata": {},
     "output_type": "display_data"
    }
   ],
   "source": [
    "from ipywidgets import interact\n",
    "from ipywidgets import interact,Dropdown,IntSlider\n",
    "@interact\n",
    "def _(n=\"1\"):\n",
    "    dlist = []\n",
    "    for s in str(n)[::-1]: # 逆順に1文字ずつ登録\n",
    "        dlist.append(s)\n",
    "    altsum = int(dlist[0]) # 交代和\n",
    "    altsumstr = dlist[0] # 計算式\n",
    "    k = -1\n",
    "    for s in dlist[1:]:\n",
    "        d = int(s)\n",
    "        altsum += d*k\n",
    "        if k<0:\n",
    "            altsumstr += \"-{}\".format(s)\n",
    "        else:\n",
    "            altsumstr += \"+{}\".format(s)\n",
    "        k *= -1\n",
    "    if altsum%11 == 0:\n",
    "        check11 = \"11の倍数です\"\n",
    "    else:\n",
    "        check11 = \"11の倍数ではない\"\n",
    "    return display(Math(\"{}={}\\\\equiv{} \\mod 11 \\\\\\\\ より{}は{}\".format(\n",
    "        altsumstr,altsum,altsum%11,n,check11)))"
   ]
  },
  {
   "cell_type": "code",
   "execution_count": 12,
   "metadata": {},
   "outputs": [
    {
     "data": {
      "application/vnd.jupyter.widget-view+json": {
       "model_id": "dea425365040458aba5019b5a3a33efa",
       "version_major": 2,
       "version_minor": 0
      },
      "text/plain": [
       "interactive(children=(Text(value='1', description='n'), Output()), _dom_classes=('widget-interact',))"
      ]
     },
     "metadata": {},
     "output_type": "display_data"
    }
   ],
   "source": [
    "from ipywidgets import interact\n",
    "from ipywidgets import interact,Dropdown,IntSlider\n",
    "@interact\n",
    "def _(n=\"1\"):\n",
    "    dlist = [n[-3:]] # 最初の3桁\n",
    "    for i in range(3,len(n),3): # 逆順に3文字ずつ登録\n",
    "        dlist.append(n[-i-3:-i])\n",
    "    altsum = int(dlist[0]) # 3桁交代和\n",
    "    altsumstr = dlist[0] # 計算式\n",
    "    k = -1\n",
    "    for s in dlist[1:]:\n",
    "        d = int(s)\n",
    "        altsum += d*k\n",
    "        if k<0:\n",
    "            altsumstr += \"-{}\".format(s)\n",
    "        else:\n",
    "            altsumstr += \"+{}\".format(s)\n",
    "        k *= -1\n",
    "    if altsum%7 == 0:\n",
    "        check7 = \"7の倍数です\"\n",
    "    else:\n",
    "        check7 = \"7の倍数ではない\"\n",
    "    return display(Math(\"{}={}\\\\equiv{} \\mod 7 \\\\\\\\ より{}は{}\".format(\n",
    "                        altsumstr,altsum,altsum%7,n,check7)))"
   ]
  },
  {
   "cell_type": "code",
   "execution_count": null,
   "metadata": {},
   "outputs": [],
   "source": []
  }
 ],
 "metadata": {
  "kernelspec": {
   "display_name": "Python 3",
   "language": "python",
   "name": "python3"
  },
  "language_info": {
   "codemirror_mode": {
    "name": "ipython",
    "version": 3
   },
   "file_extension": ".py",
   "mimetype": "text/x-python",
   "name": "python",
   "nbconvert_exporter": "python",
   "pygments_lexer": "ipython3",
   "version": "3.8.5"
  },
  "toc": {
   "base_numbering": 1,
   "nav_menu": {},
   "number_sections": true,
   "sideBar": true,
   "skip_h1_title": false,
   "title_cell": "Table of Contents",
   "title_sidebar": "Contents",
   "toc_cell": false,
   "toc_position": {},
   "toc_section_display": true,
   "toc_window_display": false
  }
 },
 "nbformat": 4,
 "nbformat_minor": 4
}
